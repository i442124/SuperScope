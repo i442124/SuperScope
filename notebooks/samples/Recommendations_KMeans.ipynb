{
 "cells": [
  {
   "cell_type": "markdown",
   "id": "senior-suicide",
   "metadata": {},
   "source": [
    "# Recommendations KMeans"
   ]
  },
  {
   "cell_type": "markdown",
   "id": "located-portable",
   "metadata": {},
   "source": [
    "## 💡 1. Introduction"
   ]
  },
  {
   "cell_type": "markdown",
   "id": "retained-pottery",
   "metadata": {},
   "source": [
    "## 📚 2. Preparations"
   ]
  },
  {
   "cell_type": "markdown",
   "id": "vanilla-movie",
   "metadata": {},
   "source": [
    "### 2.1 Importing libraries"
   ]
  },
  {
   "cell_type": "code",
   "execution_count": 1,
   "id": "controversial-hampshire",
   "metadata": {},
   "outputs": [],
   "source": [
    "import numpy as np\n",
    "import pandas as pd\n",
    "import seaborn as sns\n",
    "import matplotlib.pyplot as plt\n",
    "\n",
    "from sklearn import metrics\n",
    "from sklearn.cluster import KMeans\n",
    "from sklearn.metrics import silhouette_score\n",
    "from sklearn.metrics import mean_squared_error\n",
    "from sklearn.preprocessing import StandardScaler\n",
    "from scipy.sparse import coo_matrix, csr_matrix, csc_matrix"
   ]
  },
  {
   "cell_type": "markdown",
   "id": "generous-polymer",
   "metadata": {},
   "source": [
    "### 2.2 Importing datasets\n",
    "The data storage solution provides two dataframes. We can easily import them with the use of storage magic. Storage magic is for lightweight persistance between notebooks. It stores variables, aliases and macros in the IPython's database.\n",
    "\n",
    "The data storage solution can be found here:<br>\n",
    "https://github.com/i442124/SuperScope/tree/main/notebooks/\n",
    "\n",
    "More info about storage magic can be found here:<br>\n",
    "https://ipython.readthedocs.io/en/stable/config/extensions/storemagic.html"
   ]
  },
  {
   "cell_type": "code",
   "execution_count": 2,
   "id": "compound-reunion",
   "metadata": {},
   "outputs": [],
   "source": [
    "%store -r games ratings"
   ]
  },
  {
   "cell_type": "code",
   "execution_count": 3,
   "id": "taken-virgin",
   "metadata": {},
   "outputs": [
    {
     "data": {
      "text/html": [
       "<div>\n",
       "<style scoped>\n",
       "    .dataframe tbody tr th:only-of-type {\n",
       "        vertical-align: middle;\n",
       "    }\n",
       "\n",
       "    .dataframe tbody tr th {\n",
       "        vertical-align: top;\n",
       "    }\n",
       "\n",
       "    .dataframe thead th {\n",
       "        text-align: right;\n",
       "    }\n",
       "</style>\n",
       "<table border=\"1\" class=\"dataframe\">\n",
       "  <thead>\n",
       "    <tr style=\"text-align: right;\">\n",
       "      <th></th>\n",
       "      <th>title</th>\n",
       "      <th>platform</th>\n",
       "      <th>publisher</th>\n",
       "      <th>genres</th>\n",
       "    </tr>\n",
       "  </thead>\n",
       "  <tbody>\n",
       "    <tr>\n",
       "      <th>0</th>\n",
       "      <td>The Legend of Zelda: Ocarina of Time</td>\n",
       "      <td>Nintendo 64</td>\n",
       "      <td>Nintendo</td>\n",
       "      <td>[Action Adventure, Fantasy]</td>\n",
       "    </tr>\n",
       "    <tr>\n",
       "      <th>1</th>\n",
       "      <td>Tony Hawk's Pro Skater 2</td>\n",
       "      <td>PlayStation</td>\n",
       "      <td>Activision</td>\n",
       "      <td>[Skateboarding, Sports, Alternative]</td>\n",
       "    </tr>\n",
       "    <tr>\n",
       "      <th>2</th>\n",
       "      <td>Grand Theft Auto IV</td>\n",
       "      <td>PlayStation 3</td>\n",
       "      <td>Rockstar Games</td>\n",
       "      <td>[Action Adventure, Modern, Open-World]</td>\n",
       "    </tr>\n",
       "    <tr>\n",
       "      <th>3</th>\n",
       "      <td>SoulCalibur</td>\n",
       "      <td>Dreamcast</td>\n",
       "      <td>Namco</td>\n",
       "      <td>[Fighting, Action, 3D]</td>\n",
       "    </tr>\n",
       "    <tr>\n",
       "      <th>4</th>\n",
       "      <td>Grand Theft Auto IV</td>\n",
       "      <td>Xbox 360</td>\n",
       "      <td>Rockstar Games</td>\n",
       "      <td>[Action Adventure, Modern, Open-World]</td>\n",
       "    </tr>\n",
       "  </tbody>\n",
       "</table>\n",
       "</div>"
      ],
      "text/plain": [
       "                                  title       platform       publisher  \\\n",
       "0  The Legend of Zelda: Ocarina of Time    Nintendo 64        Nintendo   \n",
       "1              Tony Hawk's Pro Skater 2    PlayStation      Activision   \n",
       "2                   Grand Theft Auto IV  PlayStation 3  Rockstar Games   \n",
       "3                           SoulCalibur      Dreamcast           Namco   \n",
       "4                   Grand Theft Auto IV       Xbox 360  Rockstar Games   \n",
       "\n",
       "                                   genres  \n",
       "0             [Action Adventure, Fantasy]  \n",
       "1    [Skateboarding, Sports, Alternative]  \n",
       "2  [Action Adventure, Modern, Open-World]  \n",
       "3                  [Fighting, Action, 3D]  \n",
       "4  [Action Adventure, Modern, Open-World]  "
      ]
     },
     "execution_count": 3,
     "metadata": {},
     "output_type": "execute_result"
    }
   ],
   "source": [
    "games.head()"
   ]
  },
  {
   "cell_type": "code",
   "execution_count": 4,
   "id": "hollow-guarantee",
   "metadata": {},
   "outputs": [
    {
     "data": {
      "text/html": [
       "<div>\n",
       "<style scoped>\n",
       "    .dataframe tbody tr th:only-of-type {\n",
       "        vertical-align: middle;\n",
       "    }\n",
       "\n",
       "    .dataframe tbody tr th {\n",
       "        vertical-align: top;\n",
       "    }\n",
       "\n",
       "    .dataframe thead th {\n",
       "        text-align: right;\n",
       "    }\n",
       "</style>\n",
       "<table border=\"1\" class=\"dataframe\">\n",
       "  <thead>\n",
       "    <tr style=\"text-align: right;\">\n",
       "      <th></th>\n",
       "      <th>title</th>\n",
       "      <th>platform</th>\n",
       "      <th>meta_score</th>\n",
       "      <th>review_critic</th>\n",
       "    </tr>\n",
       "  </thead>\n",
       "  <tbody>\n",
       "    <tr>\n",
       "      <th>0</th>\n",
       "      <td>The Legend of Zelda: Ocarina of Time</td>\n",
       "      <td>Nintendo 64</td>\n",
       "      <td>100.0</td>\n",
       "      <td>Hot Games</td>\n",
       "    </tr>\n",
       "    <tr>\n",
       "      <th>1</th>\n",
       "      <td>The Legend of Zelda: Ocarina of Time</td>\n",
       "      <td>Nintendo 64</td>\n",
       "      <td>100.0</td>\n",
       "      <td>GameShark</td>\n",
       "    </tr>\n",
       "    <tr>\n",
       "      <th>2</th>\n",
       "      <td>The Legend of Zelda: Ocarina of Time</td>\n",
       "      <td>Nintendo 64</td>\n",
       "      <td>100.0</td>\n",
       "      <td>Cincinnati Enquirer</td>\n",
       "    </tr>\n",
       "    <tr>\n",
       "      <th>3</th>\n",
       "      <td>The Legend of Zelda: Ocarina of Time</td>\n",
       "      <td>Nintendo 64</td>\n",
       "      <td>100.0</td>\n",
       "      <td>Nintendophiles</td>\n",
       "    </tr>\n",
       "    <tr>\n",
       "      <th>4</th>\n",
       "      <td>The Legend of Zelda: Ocarina of Time</td>\n",
       "      <td>Nintendo 64</td>\n",
       "      <td>100.0</td>\n",
       "      <td>Electronic Gaming Monthly</td>\n",
       "    </tr>\n",
       "  </tbody>\n",
       "</table>\n",
       "</div>"
      ],
      "text/plain": [
       "                                  title     platform  meta_score  \\\n",
       "0  The Legend of Zelda: Ocarina of Time  Nintendo 64       100.0   \n",
       "1  The Legend of Zelda: Ocarina of Time  Nintendo 64       100.0   \n",
       "2  The Legend of Zelda: Ocarina of Time  Nintendo 64       100.0   \n",
       "3  The Legend of Zelda: Ocarina of Time  Nintendo 64       100.0   \n",
       "4  The Legend of Zelda: Ocarina of Time  Nintendo 64       100.0   \n",
       "\n",
       "               review_critic  \n",
       "0                  Hot Games  \n",
       "1                  GameShark  \n",
       "2        Cincinnati Enquirer  \n",
       "3             Nintendophiles  \n",
       "4  Electronic Gaming Monthly  "
      ]
     },
     "execution_count": 4,
     "metadata": {},
     "output_type": "execute_result"
    }
   ],
   "source": [
    "ratings.head()"
   ]
  },
  {
   "cell_type": "code",
   "execution_count": 5,
   "id": "solar-affairs",
   "metadata": {},
   "outputs": [
    {
     "name": "stdout",
     "output_type": "stream",
     "text": [
      "The dataset contains: 422475 ratings of 18295 games.\n"
     ]
    }
   ],
   "source": [
    "print(f'The dataset contains: {len(ratings)} ratings of {len(games)} games.')"
   ]
  },
  {
   "cell_type": "markdown",
   "id": "superb-railway",
   "metadata": {},
   "source": [
    "## 🧪3. Experimentation\n",
    "Lets start off by experimenting a little with KMeans, to get a feel of how this works on the dataset. KMeans operates best on data where the number of categories is known. The first thing that comes into my mind are genres of the video games. Lets start off by calulating for each user their average rating of all genres available."
   ]
  },
  {
   "cell_type": "code",
   "execution_count": 7,
   "id": "acceptable-living",
   "metadata": {},
   "outputs": [],
   "source": [
    "def avg_genre_matrix(ratings):\n",
    "    # Split each game into multiple rows\n",
    "    # for each genre they have, this makes\n",
    "    # it easier to calculate the average score\n",
    "    genre_ratings = pd.merge(games, ratings)\n",
    "    genre_ratings = genre_ratings.explode(column='genres')\n",
    "\n",
    "    # Calcluate average of each review_critic of each genre\n",
    "    genre_ratings = genre_ratings.groupby(['review_critic', 'genres']).mean()\n",
    "    genre_ratings = genre_ratings.reset_index().pivot('review_critic', 'genres', 'meta_score')\n",
    "    return genre_ratings"
   ]
  },
  {
   "cell_type": "code",
   "execution_count": 8,
   "id": "rental-machine",
   "metadata": {},
   "outputs": [
    {
     "data": {
      "text/html": [
       "<div>\n",
       "<style scoped>\n",
       "    .dataframe tbody tr th:only-of-type {\n",
       "        vertical-align: middle;\n",
       "    }\n",
       "\n",
       "    .dataframe tbody tr th {\n",
       "        vertical-align: top;\n",
       "    }\n",
       "\n",
       "    .dataframe thead th {\n",
       "        text-align: right;\n",
       "    }\n",
       "</style>\n",
       "<table border=\"1\" class=\"dataframe\">\n",
       "  <thead>\n",
       "    <tr style=\"text-align: right;\">\n",
       "      <th>genres</th>\n",
       "      <th>2D</th>\n",
       "      <th>3D</th>\n",
       "      <th>4X</th>\n",
       "      <th>Action</th>\n",
       "      <th>Action Adventure</th>\n",
       "      <th>Action RPG</th>\n",
       "      <th>Adventure</th>\n",
       "      <th>Alternative</th>\n",
       "      <th>Application</th>\n",
       "      <th>Arcade</th>\n",
       "    </tr>\n",
       "    <tr>\n",
       "      <th>review_critic</th>\n",
       "      <th></th>\n",
       "      <th></th>\n",
       "      <th></th>\n",
       "      <th></th>\n",
       "      <th></th>\n",
       "      <th></th>\n",
       "      <th></th>\n",
       "      <th></th>\n",
       "      <th></th>\n",
       "      <th></th>\n",
       "    </tr>\n",
       "  </thead>\n",
       "  <tbody>\n",
       "    <tr>\n",
       "      <th>1UP</th>\n",
       "      <td>74.919811</td>\n",
       "      <td>66.234657</td>\n",
       "      <td>86.25</td>\n",
       "      <td>68.013678</td>\n",
       "      <td>69.178503</td>\n",
       "      <td>70.718919</td>\n",
       "      <td>68.814815</td>\n",
       "      <td>66.880000</td>\n",
       "      <td>80.0</td>\n",
       "      <td>67.941423</td>\n",
       "    </tr>\n",
       "    <tr>\n",
       "      <th>360 Gamer Magazine UK</th>\n",
       "      <td>67.000000</td>\n",
       "      <td>60.000000</td>\n",
       "      <td>NaN</td>\n",
       "      <td>68.512397</td>\n",
       "      <td>66.578947</td>\n",
       "      <td>76.666667</td>\n",
       "      <td>60.000000</td>\n",
       "      <td>64.000000</td>\n",
       "      <td>NaN</td>\n",
       "      <td>70.350877</td>\n",
       "    </tr>\n",
       "    <tr>\n",
       "      <th>3DAvenue</th>\n",
       "      <td>72.800000</td>\n",
       "      <td>76.120000</td>\n",
       "      <td>NaN</td>\n",
       "      <td>77.053846</td>\n",
       "      <td>77.081967</td>\n",
       "      <td>78.090909</td>\n",
       "      <td>71.600000</td>\n",
       "      <td>72.666667</td>\n",
       "      <td>NaN</td>\n",
       "      <td>80.708333</td>\n",
       "    </tr>\n",
       "    <tr>\n",
       "      <th>3DJuegos</th>\n",
       "      <td>79.644699</td>\n",
       "      <td>76.094118</td>\n",
       "      <td>82.50</td>\n",
       "      <td>76.800560</td>\n",
       "      <td>77.829060</td>\n",
       "      <td>79.241877</td>\n",
       "      <td>76.370504</td>\n",
       "      <td>76.090909</td>\n",
       "      <td>70.5</td>\n",
       "      <td>76.445946</td>\n",
       "    </tr>\n",
       "    <tr>\n",
       "      <th>4Players.de</th>\n",
       "      <td>76.763948</td>\n",
       "      <td>71.652720</td>\n",
       "      <td>77.15</td>\n",
       "      <td>72.563559</td>\n",
       "      <td>73.653772</td>\n",
       "      <td>76.970000</td>\n",
       "      <td>73.478261</td>\n",
       "      <td>73.666667</td>\n",
       "      <td>NaN</td>\n",
       "      <td>69.732441</td>\n",
       "    </tr>\n",
       "    <tr>\n",
       "      <th>9Lives</th>\n",
       "      <td>80.615385</td>\n",
       "      <td>82.615385</td>\n",
       "      <td>NaN</td>\n",
       "      <td>77.835443</td>\n",
       "      <td>78.432432</td>\n",
       "      <td>79.333333</td>\n",
       "      <td>79.000000</td>\n",
       "      <td>81.000000</td>\n",
       "      <td>72.0</td>\n",
       "      <td>77.086957</td>\n",
       "    </tr>\n",
       "    <tr>\n",
       "      <th>Absolute Games</th>\n",
       "      <td>72.666667</td>\n",
       "      <td>67.347826</td>\n",
       "      <td>70.75</td>\n",
       "      <td>63.207071</td>\n",
       "      <td>66.804348</td>\n",
       "      <td>67.641026</td>\n",
       "      <td>63.412698</td>\n",
       "      <td>NaN</td>\n",
       "      <td>NaN</td>\n",
       "      <td>62.379845</td>\n",
       "    </tr>\n",
       "    <tr>\n",
       "      <th>Absolute Playstation</th>\n",
       "      <td>90.333333</td>\n",
       "      <td>87.090909</td>\n",
       "      <td>NaN</td>\n",
       "      <td>86.807692</td>\n",
       "      <td>90.315789</td>\n",
       "      <td>86.750000</td>\n",
       "      <td>NaN</td>\n",
       "      <td>79.833333</td>\n",
       "      <td>NaN</td>\n",
       "      <td>88.200000</td>\n",
       "    </tr>\n",
       "    <tr>\n",
       "      <th>AceGamez</th>\n",
       "      <td>77.050505</td>\n",
       "      <td>72.181818</td>\n",
       "      <td>91.25</td>\n",
       "      <td>74.171225</td>\n",
       "      <td>73.804627</td>\n",
       "      <td>72.674157</td>\n",
       "      <td>70.069307</td>\n",
       "      <td>69.848485</td>\n",
       "      <td>60.0</td>\n",
       "      <td>74.802048</td>\n",
       "    </tr>\n",
       "    <tr>\n",
       "      <th>Action Trip</th>\n",
       "      <td>NaN</td>\n",
       "      <td>NaN</td>\n",
       "      <td>NaN</td>\n",
       "      <td>NaN</td>\n",
       "      <td>88.000000</td>\n",
       "      <td>NaN</td>\n",
       "      <td>NaN</td>\n",
       "      <td>NaN</td>\n",
       "      <td>NaN</td>\n",
       "      <td>NaN</td>\n",
       "    </tr>\n",
       "  </tbody>\n",
       "</table>\n",
       "</div>"
      ],
      "text/plain": [
       "genres                        2D         3D     4X     Action  \\\n",
       "review_critic                                                   \n",
       "1UP                    74.919811  66.234657  86.25  68.013678   \n",
       "360 Gamer Magazine UK  67.000000  60.000000    NaN  68.512397   \n",
       "3DAvenue               72.800000  76.120000    NaN  77.053846   \n",
       "3DJuegos               79.644699  76.094118  82.50  76.800560   \n",
       "4Players.de            76.763948  71.652720  77.15  72.563559   \n",
       "9Lives                 80.615385  82.615385    NaN  77.835443   \n",
       "Absolute Games         72.666667  67.347826  70.75  63.207071   \n",
       "Absolute Playstation   90.333333  87.090909    NaN  86.807692   \n",
       "AceGamez               77.050505  72.181818  91.25  74.171225   \n",
       "Action Trip                  NaN        NaN    NaN        NaN   \n",
       "\n",
       "genres                 Action Adventure  Action RPG  Adventure  Alternative  \\\n",
       "review_critic                                                                 \n",
       "1UP                           69.178503   70.718919  68.814815    66.880000   \n",
       "360 Gamer Magazine UK         66.578947   76.666667  60.000000    64.000000   \n",
       "3DAvenue                      77.081967   78.090909  71.600000    72.666667   \n",
       "3DJuegos                      77.829060   79.241877  76.370504    76.090909   \n",
       "4Players.de                   73.653772   76.970000  73.478261    73.666667   \n",
       "9Lives                        78.432432   79.333333  79.000000    81.000000   \n",
       "Absolute Games                66.804348   67.641026  63.412698          NaN   \n",
       "Absolute Playstation          90.315789   86.750000        NaN    79.833333   \n",
       "AceGamez                      73.804627   72.674157  70.069307    69.848485   \n",
       "Action Trip                   88.000000         NaN        NaN          NaN   \n",
       "\n",
       "genres                 Application     Arcade  \n",
       "review_critic                                  \n",
       "1UP                           80.0  67.941423  \n",
       "360 Gamer Magazine UK          NaN  70.350877  \n",
       "3DAvenue                       NaN  80.708333  \n",
       "3DJuegos                      70.5  76.445946  \n",
       "4Players.de                    NaN  69.732441  \n",
       "9Lives                        72.0  77.086957  \n",
       "Absolute Games                 NaN  62.379845  \n",
       "Absolute Playstation           NaN  88.200000  \n",
       "AceGamez                      60.0  74.802048  \n",
       "Action Trip                    NaN        NaN  "
      ]
     },
     "execution_count": 8,
     "metadata": {},
     "output_type": "execute_result"
    }
   ],
   "source": [
    "genre_ratings = avg_genre_matrix(ratings)\n",
    "genre_ratings.iloc[:10, :10]"
   ]
  },
  {
   "cell_type": "markdown",
   "id": "baking-nicholas",
   "metadata": {},
   "source": [
    "We can see a few NaN values, which indicates that this reviewer has not scored a game in this genre."
   ]
  },
  {
   "cell_type": "markdown",
   "id": "governmental-tuition",
   "metadata": {},
   "source": [
    "### 3.1 Action vs Adventure"
   ]
  },
  {
   "cell_type": "markdown",
   "id": "brilliant-diamond",
   "metadata": {},
   "source": [
    "Now that we have the averages of all genres for each review critic, lets compare two of the most popular genres with each other. We can use a scatter plot where the scores of the action genre on the X axis and the adventure genre on the Y axis. Spots on the bottom left indicate that the critic doesn't like action nor adventure, while the top right indicates that the critic really loves action and adventure."
   ]
  },
  {
   "cell_type": "code",
   "execution_count": 9,
   "id": "published-shopper",
   "metadata": {},
   "outputs": [],
   "source": [
    "action_adventure = genre_ratings[['Action', 'Adventure']]\n",
    "action_adventure = action_adventure[action_adventure['Action'].notna()]\n",
    "action_adventure = action_adventure[action_adventure['Adventure'].notna()]"
   ]
  },
  {
   "cell_type": "code",
   "execution_count": 10,
   "id": "vanilla-projection",
   "metadata": {},
   "outputs": [
    {
     "data": {
      "text/plain": [
       "<AxesSubplot:xlabel='Action', ylabel='Adventure'>"
      ]
     },
     "execution_count": 10,
     "metadata": {},
     "output_type": "execute_result"
    },
    {
     "data": {
      "image/png": "[encoded data removed]",
      "text/plain": [
       "<Figure size 432x288 with 1 Axes>"
      ]
     },
     "metadata": {
      "needs_background": "light"
     },
     "output_type": "display_data"
    }
   ],
   "source": [
    "action_adventure.plot.scatter(x='Action', y='Adventure')"
   ]
  },
  {
   "cell_type": "markdown",
   "id": "extraordinary-finding",
   "metadata": {},
   "source": [
    "It looks like most people enjoy action adventure as the center of all points is located in the top right. Lets check out how KMeans performs when we split these review scores into two different groups. I'd expect a segmentation somewhere around the (75,75) mark."
   ]
  },
  {
   "cell_type": "code",
   "execution_count": 11,
   "id": "otherwise-receipt",
   "metadata": {},
   "outputs": [
    {
     "data": {
      "text/plain": [
       "<AxesSubplot:xlabel='Action', ylabel='Adventure'>"
      ]
     },
     "execution_count": 11,
     "metadata": {},
     "output_type": "execute_result"
    },
    {
     "data": {
      "image/png": "[encoded data removed]",
      "text/plain": [
       "<Figure size 432x288 with 2 Axes>"
      ]
     },
     "metadata": {
      "needs_background": "light"
     },
     "output_type": "display_data"
    }
   ],
   "source": [
    "clusterer = KMeans(n_clusters=2)\n",
    "predictions = clusterer.fit_predict(action_adventure)\n",
    "\n",
    "fig, ax = plt.subplots(1, 1)\n",
    "action_adventure.plot.scatter(ax=ax, x='Action', y='Adventure', c=predictions, colormap='plasma')"
   ]
  },
  {
   "cell_type": "markdown",
   "id": "addressed-franchise",
   "metadata": {},
   "source": [
    "As we can see, the cluster that the critic belongs to depends on if they rate adventure higher than action (or visa versa). Lets check what happens when we increase the number of clusters."
   ]
  },
  {
   "cell_type": "code",
   "execution_count": 12,
   "id": "aerial-shopping",
   "metadata": {},
   "outputs": [
    {
     "data": {
      "image/png": "[encoded data removed]",
      "text/plain": [
       "<Figure size 921.6x662.4 with 8 Axes>"
      ]
     },
     "metadata": {
      "needs_background": "light"
     },
     "output_type": "display_data"
    }
   ],
   "source": [
    "k_values = [2, 3, 4, 5]\n",
    "fig, axs = plt.subplots(2, 2, figsize=(12.8, 9.2))\n",
    "\n",
    "for i, k in enumerate(k_values): \n",
    "    clusterer = KMeans(n_clusters=k)\n",
    "    predictions = clusterer.fit_predict(action_adventure)\n",
    "    action_adventure.plot.scatter(ax=axs.ravel()[i], x='Action', y='Adventure', c=predictions, colormap='plasma')"
   ]
  },
  {
   "cell_type": "markdown",
   "id": "affected-graduate",
   "metadata": {},
   "source": [
    "We start to see that the more clusters we use, the more similar the taste of each cluster blends in with the others, but what would be the most optimal value?"
   ]
  },
  {
   "cell_type": "markdown",
   "id": "architectural-labor",
   "metadata": {},
   "source": [
    "### 3.2 Finding Optimal K"
   ]
  },
  {
   "cell_type": "markdown",
   "id": "respiratory-supplier",
   "metadata": {},
   "source": [
    "There are several techniques we can use to determine the optimal value of K. The most popular method for finding the optimal value is known as 'The Elbow Method'. Another method I found is known as the silhouette-method which I'd like to try out as well, to see how they comapre with each other.\n",
    "\n",
    "Useful sources: <br>\n",
    "https://en.wikipedia.org/wiki/Determining_the_number_of_clusters_in_a_data_set<br>\n",
    "https://medium.com/analytics-vidhya/how-to-determine-the-optimal-k-for-k-means-708505d204eb<br>"
   ]
  },
  {
   "cell_type": "code",
   "execution_count": 13,
   "id": "overall-analyst",
   "metadata": {},
   "outputs": [],
   "source": [
    "def elbow_method(k, data):\n",
    "    clusterer = KMeans(n_clusters=k)\n",
    "    pred = clusterer.fit_predict(data)\n",
    "    return clusterer.inertia_"
   ]
  },
  {
   "cell_type": "code",
   "execution_count": 14,
   "id": "respected-israeli",
   "metadata": {},
   "outputs": [],
   "source": [
    "def silhouette_method(k, data):\n",
    "    kmeans = KMeans(n_clusters=k)\n",
    "    pred = kmeans.fit_predict(data)\n",
    "    return silhouette_score(data, pred)"
   ]
  },
  {
   "cell_type": "code",
   "execution_count": 15,
   "id": "simplified-botswana",
   "metadata": {},
   "outputs": [],
   "source": [
    "def plot_optimal_k(possible_k_values, scores):\n",
    "    fig = plt.figure(figsize=(16, 6))\n",
    "    \n",
    "    xticks = np.arange(\n",
    "        min(possible_k_values),\n",
    "        max(possible_k_values)+1, 12)\n",
    "    \n",
    "    plt.xticks(xticks, rotation=0)\n",
    "    plt.grid(axis='both', which='both')\n",
    "    plt.plot(possible_k_values, scores)"
   ]
  },
  {
   "cell_type": "markdown",
   "id": "international-rebound",
   "metadata": {},
   "source": [
    "Lets start off with gathering all possible k values we can go for. KMeans is limited to the amount of entires in the dataset, which for us is the total amount of critics. We can use this scope to generate a range between 2 (the miniumum) and the amount of critics (the maximum). We use a stride of 8 to lower the performance cost."
   ]
  },
  {
   "cell_type": "code",
   "execution_count": 16,
   "id": "warming-planner",
   "metadata": {},
   "outputs": [],
   "source": [
    "possible_k_values = range(2, len(action_adventure), 4)"
   ]
  },
  {
   "cell_type": "markdown",
   "id": "signal-delta",
   "metadata": {},
   "source": [
    "First we will plot the Elbow Method. The elbow method is known for ... it's elbow shape. The value we are looking for is represented by the bend of the elbow. This point should be an indication how many (if any!?) clusters we have in the dataset. So let's figure out how many clusters we have in the action/adventure genre."
   ]
  },
  {
   "cell_type": "code",
   "execution_count": 17,
   "id": "legendary-shift",
   "metadata": {},
   "outputs": [],
   "source": [
    "#squared_distances = [elbow_method(k, action_adventure) for k in possible_k_values]\n",
    "#plot_optimal_k(possible_k_values, squared_distances)"
   ]
  },
  {
   "cell_type": "markdown",
   "id": "temporal-definition",
   "metadata": {},
   "source": [
    "Looks like the sweetspot is rougly at 20 clusteres. Let's compare this with the silhouette score. With the silhouette method we are most likley intrested in the highest peak on the chart."
   ]
  },
  {
   "cell_type": "code",
   "execution_count": 18,
   "id": "coated-anger",
   "metadata": {},
   "outputs": [],
   "source": [
    "#silhouette_scores = [silhouette_method(k, action_adventure) for k in possible_k_values]\n",
    "#plot_optimal_k(possible_k_values, silhouette_scores)"
   ]
  },
  {
   "cell_type": "markdown",
   "id": "needed-conviction",
   "metadata": {},
   "source": [
    "Whats intresting about this plot is that it's peak is already at two, which happens to be the amount of genres that we are trying to compare. Ignoring that part, we see a few peakes with a gradual decline at around 134 clusters. Depending on what kind of clustering we need (blended or abstract) we can choose accordingly."
   ]
  },
  {
   "cell_type": "markdown",
   "id": "numerical-england",
   "metadata": {},
   "source": [
    "## ⚙️ 4. Settings"
   ]
  },
  {
   "cell_type": "code",
   "execution_count": 19,
   "id": "extensive-dakota",
   "metadata": {},
   "outputs": [],
   "source": [
    "## Amount of clusters that the\n",
    "# reviewers should be devided into\n",
    "K_CLUSTERS = 7\n",
    "\n",
    "## Score reduction strength for games\n",
    "## with a low amount of reviews in cluster\n",
    "PENALIZER_STRENGTH = 1\n",
    "\n",
    "## Platforms that you want\n",
    "## to get recommendations for\n",
    "SUPPORTED_PLATFORMS = ['Switch']\n",
    "\n",
    "## How to resolve NaN values for \n",
    "## critics that haven't played a genre\n",
    "## possible values: 'drop', 'mean', 'zeros'\n",
    "IMPUTATION_RESOLVER = 'drop'\n",
    "\n",
    "## Minimum amount of reviews\n",
    "## that the game must have\n",
    "MIN_REVIEWS_COUNT = 0\n",
    "\n",
    "## Minimum amount of reviews that\n",
    "## the critic must have written\n",
    "MIN_REVIEWS_WRITTEN = 0\n",
    "\n",
    "## Minimum amount of reviews in\n",
    "## for a genre in order to be clustered\n",
    "MIN_REVIEWS_IN_GENRE = 75"
   ]
  },
  {
   "cell_type": "code",
   "execution_count": 20,
   "id": "remarkable-remedy",
   "metadata": {},
   "outputs": [
    {
     "data": {
      "text/html": [
       "<div>\n",
       "<style scoped>\n",
       "    .dataframe tbody tr th:only-of-type {\n",
       "        vertical-align: middle;\n",
       "    }\n",
       "\n",
       "    .dataframe tbody tr th {\n",
       "        vertical-align: top;\n",
       "    }\n",
       "\n",
       "    .dataframe thead th {\n",
       "        text-align: right;\n",
       "    }\n",
       "</style>\n",
       "<table border=\"1\" class=\"dataframe\">\n",
       "  <thead>\n",
       "    <tr style=\"text-align: right;\">\n",
       "      <th></th>\n",
       "      <th>title</th>\n",
       "      <th>platform</th>\n",
       "      <th>review_critic</th>\n",
       "      <th>meta_score</th>\n",
       "    </tr>\n",
       "  </thead>\n",
       "  <tbody>\n",
       "    <tr>\n",
       "      <th>0</th>\n",
       "      <td>Xenoblade Chronicles: Definitive Edition</td>\n",
       "      <td>Switch</td>\n",
       "      <td>Self</td>\n",
       "      <td>100</td>\n",
       "    </tr>\n",
       "    <tr>\n",
       "      <th>1</th>\n",
       "      <td>The Legend of Zelda: Breath of the Wild</td>\n",
       "      <td>Switch</td>\n",
       "      <td>Self</td>\n",
       "      <td>92</td>\n",
       "    </tr>\n",
       "    <tr>\n",
       "      <th>2</th>\n",
       "      <td>Super Smash Bros. Ultimate</td>\n",
       "      <td>Switch</td>\n",
       "      <td>Self</td>\n",
       "      <td>95</td>\n",
       "    </tr>\n",
       "    <tr>\n",
       "      <th>3</th>\n",
       "      <td>Super Mario Oddesey</td>\n",
       "      <td>Switch</td>\n",
       "      <td>Self</td>\n",
       "      <td>80</td>\n",
       "    </tr>\n",
       "  </tbody>\n",
       "</table>\n",
       "</div>"
      ],
      "text/plain": [
       "                                      title platform review_critic  meta_score\n",
       "0  Xenoblade Chronicles: Definitive Edition   Switch          Self         100\n",
       "1   The Legend of Zelda: Breath of the Wild   Switch          Self          92\n",
       "2                Super Smash Bros. Ultimate   Switch          Self          95\n",
       "3                       Super Mario Oddesey   Switch          Self          80"
      ]
     },
     "execution_count": 20,
     "metadata": {},
     "output_type": "execute_result"
    }
   ],
   "source": [
    "MY_GAME_REVIEWS = pd.DataFrame({\n",
    "    'title': [\n",
    "        'Xenoblade Chronicles: Definitive Edition',\n",
    "        'The Legend of Zelda: Breath of the Wild',\n",
    "        'Super Smash Bros. Ultimate',\n",
    "        'Super Mario Oddesey'\n",
    "    ],\n",
    "    'platform': 'Switch',\n",
    "    'review_critic': 'Self',\n",
    "    'meta_score': [100, 92, 95, 80]\n",
    "})\n",
    "\n",
    "MY_GAME_REVIEWS"
   ]
  },
  {
   "cell_type": "markdown",
   "id": "discrete-function",
   "metadata": {},
   "source": [
    "## 🧮 5. User-Genre Matrix \n",
    "Now that we have confirmed that there is a strong releation between the review scores of critics and the genre of a game, we can start looking at the bigger picture. Instead of comparing two genres with each other, we want to compare them all with each other."
   ]
  },
  {
   "cell_type": "markdown",
   "id": "paperback-soccer",
   "metadata": {},
   "source": [
    "### 5.1 Feature selection\n",
    "Lets start off by filting some of the ratings on our list that we don't want/need. A smaller dataset will improve the performance a lot. Critics that don't write enough reviews and games that don't have enough reviews can be dropped since their accuraccy for being a good recommendation is low to begin with."
   ]
  },
  {
   "cell_type": "code",
   "execution_count": 21,
   "id": "functional-extra",
   "metadata": {},
   "outputs": [],
   "source": [
    "ratings = ratings[ratings.groupby(['review_critic'])['review_critic'].transform('size') > MIN_REVIEWS_WRITTEN]\n",
    "ratings = ratings[ratings.groupby(['title', 'platform'])['review_critic'].transform('size') > MIN_REVIEWS_COUNT]"
   ]
  },
  {
   "cell_type": "markdown",
   "id": "boring-connectivity",
   "metadata": {},
   "source": [
    "Now we have two options to determine which cluster the user will belong to. The first approach is to fit the user along with all the critics. This allows the user to become an outlier when he has an unpopular opinion which will result in no recommendations. \n",
    "\n",
    "The second approach is to predict which cluster the users belongs to after fitting the ratings of the other critics. This guarentees that the user will be droppend in a cluster with atleast some review ratings, but might not be a good fit. For the use-case I'm going for, I don't want to get recommendations when I've become an outlier so I append my reviews with the other ratings."
   ]
  },
  {
   "cell_type": "code",
   "execution_count": 22,
   "id": "metric-panama",
   "metadata": {},
   "outputs": [],
   "source": [
    "ratings = ratings.append(MY_GAME_REVIEWS)"
   ]
  },
  {
   "cell_type": "markdown",
   "id": "possible-powder",
   "metadata": {},
   "source": [
    "Next we create a genre matrix (like we did before) but this time with all genres that we have available. We drop all genres that don't have enough games for them as well as genres not in our game collection to avoid an unnecessary large matrix."
   ]
  },
  {
   "cell_type": "code",
   "execution_count": 23,
   "id": "micro-sigma",
   "metadata": {},
   "outputs": [],
   "source": [
    "genre_ratings = avg_genre_matrix(ratings)\n",
    "genre_ratings.dropna(inplace=True, axis=1, thresh=MIN_REVIEWS_IN_GENRE)\n",
    "genre_ratings = genre_ratings[avg_genre_matrix(MY_GAME_REVIEWS).columns]"
   ]
  },
  {
   "cell_type": "code",
   "execution_count": 24,
   "id": "unlimited-lithuania",
   "metadata": {},
   "outputs": [
    {
     "data": {
      "text/plain": [
       "<AxesSubplot:>"
      ]
     },
     "execution_count": 24,
     "metadata": {},
     "output_type": "execute_result"
    },
    {
     "data": {
      "image/png": "[encoded data removed]",
      "text/plain": [
       "<Figure size 864x576 with 1 Axes>"
      ]
     },
     "metadata": {
      "needs_background": "light"
     },
     "output_type": "display_data"
    }
   ],
   "source": [
    "genre_ratings.boxplot(figsize=(12, 8))"
   ]
  },
  {
   "cell_type": "markdown",
   "id": "defined-brother",
   "metadata": {},
   "source": [
    "### 5.2 Imputation"
   ]
  },
  {
   "cell_type": "code",
   "execution_count": 25,
   "id": "pregnant-update",
   "metadata": {},
   "outputs": [
    {
     "data": {
      "text/plain": [
       "genres\n",
       "2D                  34\n",
       "Action               3\n",
       "Action Adventure     8\n",
       "Action RPG          31\n",
       "Fighting            53\n",
       "Open-World          87\n",
       "Role-Playing        16\n",
       "dtype: int64"
      ]
     },
     "execution_count": 25,
     "metadata": {},
     "output_type": "execute_result"
    }
   ],
   "source": [
    "genre_ratings.isnull().sum()"
   ]
  },
  {
   "cell_type": "code",
   "execution_count": 26,
   "id": "hispanic-logistics",
   "metadata": {},
   "outputs": [],
   "source": [
    "if IMPUTATION_RESOLVER == 'drop':\n",
    "    genre_ratings = genre_ratings.dropna()\n",
    "elif IMPUTATION_RESOLVER == 'zeros':\n",
    "    genre_ratings = genre_ratings.fillna(value=0)\n",
    "elif IMPUTATION_RESOLVER == 'mean':\n",
    "    genre_ratings = genre_ratings.fillna(genre_ratings.mean())"
   ]
  },
  {
   "cell_type": "markdown",
   "id": "pacific-block",
   "metadata": {},
   "source": [
    "### 5.3 Standardisation\n",
    "When applying K-means clusterings it's best to always standardize the data before fitting. Standardisation reduces the risks of miscalculations between the distances of data. We can easily apply this by using the preprocessing library provided by sklearn."
   ]
  },
  {
   "cell_type": "code",
   "execution_count": 27,
   "id": "composed-lighter",
   "metadata": {},
   "outputs": [],
   "source": [
    "standard_scaler = StandardScaler(with_mean=True, with_std=True)\n",
    "standardized_matrix = standard_scaler.fit_transform(genre_ratings)"
   ]
  },
  {
   "cell_type": "markdown",
   "id": "funded-angle",
   "metadata": {},
   "source": [
    "## 🧠 6. KMeans Clustering"
   ]
  },
  {
   "cell_type": "markdown",
   "id": "vocational-keeping",
   "metadata": {},
   "source": [
    "### Cheatsheet"
   ]
  },
  {
   "cell_type": "code",
   "execution_count": 28,
   "id": "egyptian-contents",
   "metadata": {},
   "outputs": [],
   "source": [
    "possible_k_values = range(2, len(genre_ratings), 3)"
   ]
  },
  {
   "cell_type": "code",
   "execution_count": null,
   "id": "ideal-brief",
   "metadata": {},
   "outputs": [],
   "source": [
    "squared_distances = [elbow_method(k, standardized_matrix) for k in possible_k_values]\n",
    "plot_optimal_k(possible_k_values, squared_distances)"
   ]
  },
  {
   "cell_type": "markdown",
   "id": "nominated-homework",
   "metadata": {},
   "source": [
    "### 6.1 Training the model\n",
    "https://stats.stackexchange.com/questions/450445/<br>\n",
    "https://stats.stackexchange.com/questions/267322/<br>"
   ]
  },
  {
   "cell_type": "code",
   "execution_count": null,
   "id": "painted-ancient",
   "metadata": {
    "scrolled": false
   },
   "outputs": [],
   "source": [
    "clusterer = KMeans(n_clusters=K_CLUSTERS, random_state=42)\n",
    "predictions = clusterer.fit_predict(standardized_matrix)\n",
    "predictions"
   ]
  },
  {
   "cell_type": "code",
   "execution_count": null,
   "id": "frozen-collar",
   "metadata": {},
   "outputs": [],
   "source": [
    "genre_ratings['cluster'] = predictions\n",
    "genre_ratings['cluster'].value_counts()"
   ]
  },
  {
   "cell_type": "code",
   "execution_count": null,
   "id": "rolled-referral",
   "metadata": {
    "scrolled": false
   },
   "outputs": [],
   "source": [
    "ratings = ratings.merge(genre_ratings.reset_index()[['review_critic','cluster']])\n",
    "ratings['cluster'].value_counts()"
   ]
  },
  {
   "cell_type": "code",
   "execution_count": null,
   "id": "higher-playback",
   "metadata": {},
   "outputs": [],
   "source": [
    "import warnings\n",
    "with warnings.catch_warnings(record=True):\n",
    "    sns.pairplot(genre_ratings, hue='cluster', palette='tab10')"
   ]
  },
  {
   "cell_type": "markdown",
   "id": "sexual-norman",
   "metadata": {},
   "source": [
    "### 6.2 Predictions"
   ]
  },
  {
   "cell_type": "code",
   "execution_count": null,
   "id": "complicated-disaster",
   "metadata": {},
   "outputs": [],
   "source": [
    "#my_genre_ratings = avg_genre_matrix(MY_GAME_REVIEWS)\n",
    "#my_standard_matrix = standard_scaler.fit_transform(my_genre_ratings)"
   ]
  },
  {
   "cell_type": "code",
   "execution_count": null,
   "id": "streaming-anderson",
   "metadata": {},
   "outputs": [],
   "source": [
    "#cluster_id = clusterer.predict(my_standard_matrix)[0]\n",
    "#cluster_id"
   ]
  },
  {
   "cell_type": "code",
   "execution_count": null,
   "id": "negative-employer",
   "metadata": {},
   "outputs": [],
   "source": [
    "cluster_id = ratings[ratings['review_critic'] == 'Self']['cluster'].iloc[0]\n",
    "cluster_id"
   ]
  },
  {
   "cell_type": "markdown",
   "id": "reduced-alfred",
   "metadata": {},
   "source": [
    "## 📊 7. Recommendations\n",
    "After determining which cluster I would belong to we can start getting all the ratings of the critics that have the same intrests as us. We no longer care about the opinions of other reviewers because they have intrests in genres we don't care about."
   ]
  },
  {
   "cell_type": "code",
   "execution_count": null,
   "id": "generic-panic",
   "metadata": {},
   "outputs": [],
   "source": [
    "cluster = ratings[ratings['cluster'] == cluster_id]\n",
    "cluster = cluster[cluster['platform'].isin(SUPPORTED_PLATFORMS)]"
   ]
  },
  {
   "cell_type": "markdown",
   "id": "coated-magnitude",
   "metadata": {},
   "source": [
    "Great, now let's grab the mean of all the game scores and sort them by highest scored game, this should be our top recommendation!"
   ]
  },
  {
   "cell_type": "code",
   "execution_count": null,
   "id": "muslim-harassment",
   "metadata": {},
   "outputs": [],
   "source": [
    "cluster_ratings = cluster.groupby(['platform', 'title']).mean().reset_index()\n",
    "cluster_ratings.sort_values(['meta_score'], inplace=True, ascending=False)\n",
    "cluster_ratings.head(20)"
   ]
  },
  {
   "cell_type": "markdown",
   "id": "appreciated-ranch",
   "metadata": {},
   "source": [
    "Not bad suggestions at all, but some of these are questionable at best. *'Sayonara Wild Hearts'*, *'Subsurface Circular'* and *'Baba is You'* are games I've certainly never heard of, so why are they this high up on the list?"
   ]
  },
  {
   "cell_type": "code",
   "execution_count": null,
   "id": "congressional-heating",
   "metadata": {},
   "outputs": [],
   "source": [
    "cluster_sizes = cluster.groupby(['platform', 'title']).agg({'title':'size', 'meta_score':'mean'})\n",
    "cluster_sizes = cluster_sizes.rename(columns={'title':'count'}).reset_index()\n",
    "cluster_sizes.sort_values(['count'], inplace=True, ascending=False)\n",
    "cluster_sizes.head(20)"
   ]
  },
  {
   "cell_type": "markdown",
   "id": "monetary-breeding",
   "metadata": {},
   "source": [
    "When we start sorting on the total amount of reviews for a game, the suggestions make a lot more sense to me personally. Most of these games I've actually seen/played or at the least heard of. So, we need to find a balance between the average review score and the total amount of reviews written for that game. If we only have one review for a game in the cluster that has scored really high it's probably still not a good sugesstion for users to play. We need some kind of way to \"punish\" games that don't have a lot of recommendations."
   ]
  },
  {
   "cell_type": "code",
   "execution_count": null,
   "id": "junior-sarah",
   "metadata": {},
   "outputs": [],
   "source": [
    "%%html\n",
    "<style>table {align:left;display:block}</style>"
   ]
  },
  {
   "cell_type": "markdown",
   "id": "instrumental-fraud",
   "metadata": {},
   "source": [
    "We want to scale down the scores by the amount of reviews we have. The higher we get to 'infinity' the closer we want to get to the actual mean score. I think the desidered effect is best explained with a simple table that gives you a rough idea of what we want to achieve.\n",
    "\n",
    "|  X  |   1   |   2   |   3   |   4   |   5   |   6   |   7   |   8   |   9   |\n",
    "| --- | ----- | ----- | ----- | ----- | ----- | ----- | ----- | ----- | ----- |\n",
    "|  Y  |  0.5  | 0.667 | 0.75  |  0.8  | 0.83  | 0.857 | 0.875 | 0.888 |  0.9  |\n",
    "\n",
    "Here we can see that as X grows, the Y increases as well, but the effect weakens over time. Y will be the multiplication factor that we apply on the `meta_score`. If we have one review, the score gets devided in half, if we have two reviews it get's devided by 2/3 etc and if we have three reviews, the score get's devided by 3/4 and so forth.\n",
    "\n",
    "The formula that belongs to the table above is the following:<br>\n",
    "`Y = (X)/(X+1) * score`\n",
    "\n",
    "The strength of the punishment is decided by the magic number `PENALIZER_STRENGTH`. If we were to increase this number the punishments get stronger and if we were to lower this number the punishments become weaker. In this case I want this effect to be pretty strong because I'd like to avoid recommending possible poor games over not recommending good games! Now let's apply this formula to our recommendations and see the results.\n",
    "\n",
    "You can expiriment with the fomula in [WolframAlpha](https://www.wolframalpha.com/input/?i=x%2F%28x%2B1%29+from+0+to+10) or by playing with the settings."
   ]
  },
  {
   "cell_type": "code",
   "execution_count": null,
   "id": "commercial-visibility",
   "metadata": {},
   "outputs": [],
   "source": [
    "weight = lambda x: (x['count'])/(x['count']+PENALIZER_STRENGTH) * x['meta_score']"
   ]
  },
  {
   "cell_type": "code",
   "execution_count": null,
   "id": "union-museum",
   "metadata": {
    "scrolled": false
   },
   "outputs": [],
   "source": [
    "recommendations = pd.DataFrame(cluster_sizes)\n",
    "recommendations['recommendation_score'] = weight(recommendations)\n",
    "recommendations.sort_values(['recommendation_score'], ascending=False).head(20)"
   ]
  },
  {
   "cell_type": "markdown",
   "id": "differential-maine",
   "metadata": {},
   "source": [
    "And there we have it, the recommendations based on my personal preference."
   ]
  },
  {
   "cell_type": "markdown",
   "id": "induced-absorption",
   "metadata": {},
   "source": [
    "## 📝 8. Conclusion"
   ]
  }
 ],
 "metadata": {
  "kernelspec": {
   "display_name": "Python 3",
   "language": "python",
   "name": "python3"
  },
  "language_info": {
   "codemirror_mode": {
    "name": "ipython",
    "version": 3
   },
   "file_extension": ".py",
   "mimetype": "text/x-python",
   "name": "python",
   "nbconvert_exporter": "python",
   "pygments_lexer": "ipython3",
   "version": "3.8.7"
  }
 },
 "nbformat": 4,
 "nbformat_minor": 5
}
