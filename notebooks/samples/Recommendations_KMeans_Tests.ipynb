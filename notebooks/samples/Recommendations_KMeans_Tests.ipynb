{
 "cells": [
  {
   "cell_type": "markdown",
   "id": "everyday-trout",
   "metadata": {},
   "source": [
    "# Recommendations KMeans Test"
   ]
  },
  {
   "cell_type": "markdown",
   "id": "suffering-czech",
   "metadata": {},
   "source": [
    "## 💡 1. Introduction"
   ]
  },
  {
   "cell_type": "markdown",
   "id": "noble-thong",
   "metadata": {},
   "source": [
    "## 📚 2. Preparations"
   ]
  },
  {
   "cell_type": "markdown",
   "id": "marine-escape",
   "metadata": {},
   "source": [
    "### 2.1 Importing libraries "
   ]
  },
  {
   "cell_type": "code",
   "execution_count": 1,
   "id": "sustainable-watershed",
   "metadata": {},
   "outputs": [],
   "source": [
    "import numpy as np\n",
    "import pandas as pd\n",
    "\n",
    "from sklearn.cluster import KMeans\n",
    "from sklearn.metrics import mean_squared_error\n",
    "from sklearn.metrics import mean_absolute_error\n",
    "from sklearn.preprocessing import StandardScaler\n",
    "from sklearn.model_selection import GroupShuffleSplit"
   ]
  },
  {
   "cell_type": "markdown",
   "id": "unusual-neighbor",
   "metadata": {},
   "source": [
    "### 2.2 Importing datasets"
   ]
  },
  {
   "cell_type": "code",
   "execution_count": 2,
   "id": "differential-infection",
   "metadata": {},
   "outputs": [],
   "source": [
    "%store -r games ratings"
   ]
  },
  {
   "cell_type": "markdown",
   "id": "executed-revelation",
   "metadata": {},
   "source": [
    "### 2.3 Defining methods for testing"
   ]
  },
  {
   "cell_type": "code",
   "execution_count": 3,
   "id": "frequent-contrary",
   "metadata": {},
   "outputs": [],
   "source": [
    "def avg_genre_matrix(ratings):\n",
    "    # Split each game into multiple rows\n",
    "    # for each genre they have, this makes\n",
    "    # it easier to calculate the average score\n",
    "    genre_ratings = pd.merge(games, ratings)\n",
    "    genre_ratings = genre_ratings.explode(column='genres')\n",
    "\n",
    "    # Calcluate average of each review_critic of each genre\n",
    "    genre_ratings = genre_ratings.groupby(['review_critic', 'genres']).mean()\n",
    "    genre_ratings = genre_ratings.reset_index().pivot('review_critic', 'genres', 'meta_score')\n",
    "    return genre_ratings"
   ]
  },
  {
   "cell_type": "code",
   "execution_count": 4,
   "id": "widespread-silver",
   "metadata": {},
   "outputs": [],
   "source": [
    "def resolve_by_impute(genre_ratings):\n",
    "    if IMPUTATION_RESOLVER == 'drop':\n",
    "        genre_ratings = genre_ratings.dropna()\n",
    "    elif IMPUTATION_RESOLVER == 'zeros':\n",
    "        genre_ratings = genre_ratings.fillna(value=0)\n",
    "    elif IMPUTATION_RESOLVER == 'neutral':\n",
    "        genre_ratings = genre_ratings.fillna(value=50)\n",
    "    elif IMPUTATION_RESOLVER == 'mean':\n",
    "        genre_ratings = genre_ratings.fillna(genre_ratings.mean())\n",
    "    return genre_ratings"
   ]
  },
  {
   "cell_type": "code",
   "execution_count": 5,
   "id": "trying-hazard",
   "metadata": {},
   "outputs": [],
   "source": [
    "def standardize(genre_ratings):\n",
    "    SS = StandardScaler(with_mean=True, with_std=True)\n",
    "    return SS.fit_transform(genre_ratings)"
   ]
  },
  {
   "cell_type": "markdown",
   "id": "saving-learning",
   "metadata": {},
   "source": [
    "## ⚙️ 3. Settings"
   ]
  },
  {
   "cell_type": "code",
   "execution_count": 6,
   "id": "adverse-preservation",
   "metadata": {},
   "outputs": [],
   "source": [
    "## Amount of clusters that the\n",
    "# reviewers should be devided into\n",
    "K_CLUSTERS = 8\n",
    "\n",
    "## Score reduction strength for games\n",
    "## with a low amount of reviews in cluster\n",
    "PENALIZER_STRENGTH = 0\n",
    "\n",
    "## How to resolve NaN values for \n",
    "## critics that haven't played a genre\n",
    "## possible values: 'drop', 'mean', 'zeros' and 'neutral'\n",
    "IMPUTATION_RESOLVER = 'neutral'\n",
    "\n",
    "## Minimum amount of reviews\n",
    "## that the game must have\n",
    "MIN_REVIEWS_COUNT = 0\n",
    "\n",
    "## Minimum amount of reviews that\n",
    "## the critic must have written\n",
    "MIN_REVIEWS_WRITTEN = 325\n",
    "\n",
    "## Minimum amount of reviews in\n",
    "## for a genre in order to be clustered\n",
    "MIN_REVIEWS_IN_GENRE = 75\n",
    "\n",
    "## Train to test ratio\n",
    "TRAIN_TEST_SPLIT = 0.7"
   ]
  },
  {
   "cell_type": "markdown",
   "id": "prime-registrar",
   "metadata": {},
   "source": [
    "## ✅ 4. Evaluation"
   ]
  },
  {
   "cell_type": "markdown",
   "id": "removable-malpractice",
   "metadata": {},
   "source": [
    "### 4.1 Train-Test split"
   ]
  },
  {
   "cell_type": "code",
   "execution_count": 7,
   "id": "aware-sierra",
   "metadata": {},
   "outputs": [
    {
     "data": {
      "text/plain": [
       "GroupShuffleSplit(n_splits=2, random_state=42, test_size=None, train_size=0.7)"
      ]
     },
     "execution_count": 7,
     "metadata": {},
     "output_type": "execute_result"
    }
   ],
   "source": [
    "gss = GroupShuffleSplit(n_splits=2, train_size=TRAIN_TEST_SPLIT, random_state=42)\n",
    "gss"
   ]
  },
  {
   "cell_type": "code",
   "execution_count": 8,
   "id": "floating-verse",
   "metadata": {},
   "outputs": [
    {
     "data": {
      "text/plain": [
       "(array([     1,      3,      6, ..., 422470, 422471, 422473], dtype=int64),\n",
       " array([     0,      2,      4, ..., 422463, 422469, 422472], dtype=int64))"
      ]
     },
     "execution_count": 8,
     "metadata": {},
     "output_type": "execute_result"
    }
   ],
   "source": [
    "train_idx, test_idx = next(gss.split(ratings, groups=ratings['review_critic']))\n",
    "train_idx, test_idx"
   ]
  },
  {
   "cell_type": "code",
   "execution_count": 9,
   "id": "dramatic-transcription",
   "metadata": {},
   "outputs": [],
   "source": [
    "train = ratings.iloc[train_idx]\n",
    "train_matrix = resolve_by_impute(avg_genre_matrix(train))\n",
    "\n",
    "test = ratings.iloc[test_idx]\n",
    "test_matrix = resolve_by_impute(avg_genre_matrix(test))"
   ]
  },
  {
   "cell_type": "markdown",
   "id": "driven-hygiene",
   "metadata": {},
   "source": [
    "### 4.2 Training the model"
   ]
  },
  {
   "cell_type": "code",
   "execution_count": 10,
   "id": "saving-saturn",
   "metadata": {},
   "outputs": [
    {
     "data": {
      "text/plain": [
       "KMeans(random_state=42)"
      ]
     },
     "execution_count": 10,
     "metadata": {},
     "output_type": "execute_result"
    }
   ],
   "source": [
    "clusterer = KMeans(n_clusters=K_CLUSTERS, random_state=42)\n",
    "clusterer.fit(standardize(train_matrix))"
   ]
  },
  {
   "cell_type": "markdown",
   "id": "chicken-raising",
   "metadata": {},
   "source": [
    "### 4.3 Predictions"
   ]
  },
  {
   "cell_type": "code",
   "execution_count": 11,
   "id": "innocent-albany",
   "metadata": {},
   "outputs": [
    {
     "data": {
      "text/plain": [
       "array([1, 3, 4, 5, 3, 5, 5, 4, 7, 2, 0, 0, 1, 2, 1, 4, 1, 0, 5, 4, 3, 1,\n",
       "       7, 1, 5, 2, 0, 1, 5, 1, 1, 1, 1, 4, 1, 6, 1, 1, 1, 0, 1, 1, 2, 7,\n",
       "       3, 0, 7, 2, 2, 1, 5, 2, 1, 2, 0, 1, 4, 7, 7, 1, 7, 1, 0, 3, 1, 4,\n",
       "       1, 4, 4, 5, 1, 3, 5, 0, 5, 1, 4, 1, 4, 1, 1, 7, 1, 1, 4, 7, 0, 2,\n",
       "       5, 1, 2, 1, 1, 1, 1, 3, 1, 4, 3, 5, 4, 0, 2, 1, 0, 2, 1, 2, 2, 5,\n",
       "       4, 7, 5, 4, 2, 2, 4, 0, 5, 1, 1, 5, 5, 4, 1, 5, 0, 0, 5, 2, 2, 1,\n",
       "       5, 5, 2, 4, 2, 5, 4, 1, 4, 7, 1, 0, 4, 0, 0, 1, 0, 1])"
      ]
     },
     "execution_count": 11,
     "metadata": {},
     "output_type": "execute_result"
    }
   ],
   "source": [
    "predictions = clusterer.predict(standardize(test_matrix))\n",
    "predictions"
   ]
  },
  {
   "cell_type": "code",
   "execution_count": 12,
   "id": "dominican-struggle",
   "metadata": {},
   "outputs": [
    {
     "data": {
      "text/html": [
       "<div>\n",
       "<style scoped>\n",
       "    .dataframe tbody tr th:only-of-type {\n",
       "        vertical-align: middle;\n",
       "    }\n",
       "\n",
       "    .dataframe tbody tr th {\n",
       "        vertical-align: top;\n",
       "    }\n",
       "\n",
       "    .dataframe thead th {\n",
       "        text-align: right;\n",
       "    }\n",
       "</style>\n",
       "<table border=\"1\" class=\"dataframe\">\n",
       "  <thead>\n",
       "    <tr style=\"text-align: right;\">\n",
       "      <th></th>\n",
       "      <th>title</th>\n",
       "      <th>platform</th>\n",
       "      <th>review_critic</th>\n",
       "      <th>cluster</th>\n",
       "      <th>meta_score</th>\n",
       "    </tr>\n",
       "  </thead>\n",
       "  <tbody>\n",
       "    <tr>\n",
       "      <th>64103</th>\n",
       "      <td>Disney/Pixar Toy Story 3</td>\n",
       "      <td>Xbox 360</td>\n",
       "      <td>MS Xbox World</td>\n",
       "      <td>1</td>\n",
       "      <td>85.0</td>\n",
       "    </tr>\n",
       "    <tr>\n",
       "      <th>76235</th>\n",
       "      <td>Dragon Quest Swords: The Masked Queen and the ...</td>\n",
       "      <td>Wii</td>\n",
       "      <td>Play Magazine</td>\n",
       "      <td>0</td>\n",
       "      <td>70.0</td>\n",
       "    </tr>\n",
       "    <tr>\n",
       "      <th>115566</th>\n",
       "      <td>Xenoblade Chronicles: Definitive Edition</td>\n",
       "      <td>Switch</td>\n",
       "      <td>Press Start Australia</td>\n",
       "      <td>2</td>\n",
       "      <td>80.0</td>\n",
       "    </tr>\n",
       "    <tr>\n",
       "      <th>98719</th>\n",
       "      <td>Ori and the Will of the Wisps</td>\n",
       "      <td>Xbox One</td>\n",
       "      <td>EGM</td>\n",
       "      <td>1</td>\n",
       "      <td>80.0</td>\n",
       "    </tr>\n",
       "    <tr>\n",
       "      <th>55762</th>\n",
       "      <td>Guitar Hero: On Tour</td>\n",
       "      <td>DS</td>\n",
       "      <td>PGNx Media</td>\n",
       "      <td>0</td>\n",
       "      <td>90.0</td>\n",
       "    </tr>\n",
       "    <tr>\n",
       "      <th>811</th>\n",
       "      <td>James Bond 007: Everything or Nothing</td>\n",
       "      <td>PlayStation 2</td>\n",
       "      <td>Cincinnati Enquirer</td>\n",
       "      <td>3</td>\n",
       "      <td>90.0</td>\n",
       "    </tr>\n",
       "    <tr>\n",
       "      <th>75836</th>\n",
       "      <td>Shrek 2</td>\n",
       "      <td>Xbox</td>\n",
       "      <td>Play Magazine</td>\n",
       "      <td>0</td>\n",
       "      <td>75.0</td>\n",
       "    </tr>\n",
       "    <tr>\n",
       "      <th>29361</th>\n",
       "      <td>Lost in Blue 2</td>\n",
       "      <td>DS</td>\n",
       "      <td>1UP</td>\n",
       "      <td>1</td>\n",
       "      <td>50.0</td>\n",
       "    </tr>\n",
       "    <tr>\n",
       "      <th>67707</th>\n",
       "      <td>Tron 2.0: Killer App</td>\n",
       "      <td>Xbox</td>\n",
       "      <td>Armchair Empire</td>\n",
       "      <td>0</td>\n",
       "      <td>70.0</td>\n",
       "    </tr>\n",
       "    <tr>\n",
       "      <th>126199</th>\n",
       "      <td>Unreal Championship 2: The Liandri Conflict</td>\n",
       "      <td>Xbox</td>\n",
       "      <td>3DAvenue</td>\n",
       "      <td>3</td>\n",
       "      <td>90.0</td>\n",
       "    </tr>\n",
       "    <tr>\n",
       "      <th>19034</th>\n",
       "      <td>Divinity: Original Sin Enhanced Edition</td>\n",
       "      <td>PlayStation 4</td>\n",
       "      <td>DarkZero</td>\n",
       "      <td>1</td>\n",
       "      <td>90.0</td>\n",
       "    </tr>\n",
       "    <tr>\n",
       "      <th>71198</th>\n",
       "      <td>The Witcher 3: Wild Hunt - Blood and Wine</td>\n",
       "      <td>PC</td>\n",
       "      <td>Destructoid</td>\n",
       "      <td>1</td>\n",
       "      <td>90.0</td>\n",
       "    </tr>\n",
       "    <tr>\n",
       "      <th>17605</th>\n",
       "      <td>Tom Clancy's Splinter Cell Pandora Tomorrow</td>\n",
       "      <td>Xbox</td>\n",
       "      <td>Total Video Games</td>\n",
       "      <td>0</td>\n",
       "      <td>90.0</td>\n",
       "    </tr>\n",
       "    <tr>\n",
       "      <th>69043</th>\n",
       "      <td>Severed</td>\n",
       "      <td>PlayStation Vita</td>\n",
       "      <td>GameCritics</td>\n",
       "      <td>1</td>\n",
       "      <td>40.0</td>\n",
       "    </tr>\n",
       "    <tr>\n",
       "      <th>123730</th>\n",
       "      <td>Blade of Darkness</td>\n",
       "      <td>PC</td>\n",
       "      <td>PC Gamer</td>\n",
       "      <td>3</td>\n",
       "      <td>82.0</td>\n",
       "    </tr>\n",
       "    <tr>\n",
       "      <th>99089</th>\n",
       "      <td>The Evil Within</td>\n",
       "      <td>Xbox One</td>\n",
       "      <td>EGM</td>\n",
       "      <td>1</td>\n",
       "      <td>65.0</td>\n",
       "    </tr>\n",
       "    <tr>\n",
       "      <th>114562</th>\n",
       "      <td>Halo 5: Guardians</td>\n",
       "      <td>Xbox One</td>\n",
       "      <td>Game World Navigator Magazine</td>\n",
       "      <td>2</td>\n",
       "      <td>74.0</td>\n",
       "    </tr>\n",
       "    <tr>\n",
       "      <th>129919</th>\n",
       "      <td>Alice: Madness Returns</td>\n",
       "      <td>PC</td>\n",
       "      <td>GameStar</td>\n",
       "      <td>1</td>\n",
       "      <td>71.0</td>\n",
       "    </tr>\n",
       "    <tr>\n",
       "      <th>53794</th>\n",
       "      <td>Deus Ex: Human Revolution</td>\n",
       "      <td>Xbox 360</td>\n",
       "      <td>TeamXbox</td>\n",
       "      <td>0</td>\n",
       "      <td>91.0</td>\n",
       "    </tr>\n",
       "    <tr>\n",
       "      <th>83522</th>\n",
       "      <td>Retro City Rampage</td>\n",
       "      <td>Xbox 360</td>\n",
       "      <td>Eurogamer Spain</td>\n",
       "      <td>1</td>\n",
       "      <td>80.0</td>\n",
       "    </tr>\n",
       "  </tbody>\n",
       "</table>\n",
       "</div>"
      ],
      "text/plain": [
       "                                                    title          platform  \\\n",
       "64103                            Disney/Pixar Toy Story 3          Xbox 360   \n",
       "76235   Dragon Quest Swords: The Masked Queen and the ...               Wii   \n",
       "115566           Xenoblade Chronicles: Definitive Edition            Switch   \n",
       "98719                       Ori and the Will of the Wisps          Xbox One   \n",
       "55762                                Guitar Hero: On Tour                DS   \n",
       "811                 James Bond 007: Everything or Nothing     PlayStation 2   \n",
       "75836                                             Shrek 2              Xbox   \n",
       "29361                                      Lost in Blue 2                DS   \n",
       "67707                                Tron 2.0: Killer App              Xbox   \n",
       "126199        Unreal Championship 2: The Liandri Conflict              Xbox   \n",
       "19034             Divinity: Original Sin Enhanced Edition     PlayStation 4   \n",
       "71198           The Witcher 3: Wild Hunt - Blood and Wine                PC   \n",
       "17605         Tom Clancy's Splinter Cell Pandora Tomorrow              Xbox   \n",
       "69043                                             Severed  PlayStation Vita   \n",
       "123730                                  Blade of Darkness                PC   \n",
       "99089                                     The Evil Within          Xbox One   \n",
       "114562                                  Halo 5: Guardians          Xbox One   \n",
       "129919                             Alice: Madness Returns                PC   \n",
       "53794                           Deus Ex: Human Revolution          Xbox 360   \n",
       "83522                                  Retro City Rampage          Xbox 360   \n",
       "\n",
       "                        review_critic  cluster  meta_score  \n",
       "64103                   MS Xbox World        1        85.0  \n",
       "76235                   Play Magazine        0        70.0  \n",
       "115566          Press Start Australia        2        80.0  \n",
       "98719                             EGM        1        80.0  \n",
       "55762                      PGNx Media        0        90.0  \n",
       "811               Cincinnati Enquirer        3        90.0  \n",
       "75836                   Play Magazine        0        75.0  \n",
       "29361                             1UP        1        50.0  \n",
       "67707                 Armchair Empire        0        70.0  \n",
       "126199                       3DAvenue        3        90.0  \n",
       "19034                        DarkZero        1        90.0  \n",
       "71198                     Destructoid        1        90.0  \n",
       "17605               Total Video Games        0        90.0  \n",
       "69043                     GameCritics        1        40.0  \n",
       "123730                       PC Gamer        3        82.0  \n",
       "99089                             EGM        1        65.0  \n",
       "114562  Game World Navigator Magazine        2        74.0  \n",
       "129919                       GameStar        1        71.0  \n",
       "53794                        TeamXbox        0        91.0  \n",
       "83522                 Eurogamer Spain        1        80.0  "
      ]
     },
     "execution_count": 12,
     "metadata": {},
     "output_type": "execute_result"
    }
   ],
   "source": [
    "test_matrix['cluster'] = predictions\n",
    "test_matrix = test_matrix.reset_index()\n",
    "\n",
    "test = test.merge(test_matrix[['review_critic', 'cluster']])\n",
    "test = test[['title', 'platform', 'review_critic', 'cluster', 'meta_score']]\n",
    "test.sample(n=20, random_state=42)"
   ]
  },
  {
   "cell_type": "markdown",
   "id": "false-problem",
   "metadata": {},
   "source": [
    "### 4.3 Calcualte recommendation scores"
   ]
  },
  {
   "cell_type": "code",
   "execution_count": 13,
   "id": "diverse-warehouse",
   "metadata": {},
   "outputs": [
    {
     "data": {
      "text/html": [
       "<div>\n",
       "<style scoped>\n",
       "    .dataframe tbody tr th:only-of-type {\n",
       "        vertical-align: middle;\n",
       "    }\n",
       "\n",
       "    .dataframe tbody tr th {\n",
       "        vertical-align: top;\n",
       "    }\n",
       "\n",
       "    .dataframe thead th {\n",
       "        text-align: right;\n",
       "    }\n",
       "</style>\n",
       "<table border=\"1\" class=\"dataframe\">\n",
       "  <thead>\n",
       "    <tr style=\"text-align: right;\">\n",
       "      <th></th>\n",
       "      <th>title</th>\n",
       "      <th>platform</th>\n",
       "      <th>review_critic</th>\n",
       "      <th>cluster</th>\n",
       "      <th>meta_score</th>\n",
       "      <th>recommendation_score</th>\n",
       "    </tr>\n",
       "  </thead>\n",
       "  <tbody>\n",
       "    <tr>\n",
       "      <th>64103</th>\n",
       "      <td>The Escapists 2</td>\n",
       "      <td>Switch</td>\n",
       "      <td>Digitally Downloaded</td>\n",
       "      <td>1</td>\n",
       "      <td>80.0</td>\n",
       "      <td>80.000000</td>\n",
       "    </tr>\n",
       "    <tr>\n",
       "      <th>76235</th>\n",
       "      <td>Persona 3: Dancing in Moonlight</td>\n",
       "      <td>PlayStation 4</td>\n",
       "      <td>TheSixthAxis</td>\n",
       "      <td>1</td>\n",
       "      <td>80.0</td>\n",
       "      <td>79.166667</td>\n",
       "    </tr>\n",
       "    <tr>\n",
       "      <th>115566</th>\n",
       "      <td>Pokemon: Let's Go, Eevee!</td>\n",
       "      <td>Switch</td>\n",
       "      <td>Press Start Australia</td>\n",
       "      <td>2</td>\n",
       "      <td>90.0</td>\n",
       "      <td>80.800000</td>\n",
       "    </tr>\n",
       "    <tr>\n",
       "      <th>98719</th>\n",
       "      <td>World of Tanks: Xbox 360 Edition</td>\n",
       "      <td>Xbox 360</td>\n",
       "      <td>Official Xbox Magazine UK</td>\n",
       "      <td>1</td>\n",
       "      <td>70.0</td>\n",
       "      <td>72.000000</td>\n",
       "    </tr>\n",
       "    <tr>\n",
       "      <th>55762</th>\n",
       "      <td>Steel Battalion: Heavy Armor</td>\n",
       "      <td>Xbox 360</td>\n",
       "      <td>XboxAddict</td>\n",
       "      <td>0</td>\n",
       "      <td>10.0</td>\n",
       "      <td>19.200000</td>\n",
       "    </tr>\n",
       "    <tr>\n",
       "      <th>811</th>\n",
       "      <td>AeroWings 2: Air Strike</td>\n",
       "      <td>Dreamcast</td>\n",
       "      <td>Hot Games</td>\n",
       "      <td>3</td>\n",
       "      <td>80.0</td>\n",
       "      <td>84.000000</td>\n",
       "    </tr>\n",
       "    <tr>\n",
       "      <th>75836</th>\n",
       "      <td>Sonic the Hedgehog 4: Episode I</td>\n",
       "      <td>PlayStation 3</td>\n",
       "      <td>Playstation Official Magazine Australia</td>\n",
       "      <td>1</td>\n",
       "      <td>80.0</td>\n",
       "      <td>75.000000</td>\n",
       "    </tr>\n",
       "    <tr>\n",
       "      <th>29361</th>\n",
       "      <td>SingStar '80s</td>\n",
       "      <td>PlayStation 2</td>\n",
       "      <td>DarkStation</td>\n",
       "      <td>0</td>\n",
       "      <td>80.0</td>\n",
       "      <td>81.250000</td>\n",
       "    </tr>\n",
       "    <tr>\n",
       "      <th>67707</th>\n",
       "      <td>Victor Vran: Overkill Edition</td>\n",
       "      <td>Xbox One</td>\n",
       "      <td>XboxAddict</td>\n",
       "      <td>0</td>\n",
       "      <td>85.0</td>\n",
       "      <td>85.000000</td>\n",
       "    </tr>\n",
       "    <tr>\n",
       "      <th>126199</th>\n",
       "      <td>Destruction AllStars</td>\n",
       "      <td>PlayStation 5</td>\n",
       "      <td>Digital Trends</td>\n",
       "      <td>4</td>\n",
       "      <td>40.0</td>\n",
       "      <td>40.000000</td>\n",
       "    </tr>\n",
       "  </tbody>\n",
       "</table>\n",
       "</div>"
      ],
      "text/plain": [
       "                                   title       platform  \\\n",
       "64103                    The Escapists 2         Switch   \n",
       "76235    Persona 3: Dancing in Moonlight  PlayStation 4   \n",
       "115566         Pokemon: Let's Go, Eevee!         Switch   \n",
       "98719   World of Tanks: Xbox 360 Edition       Xbox 360   \n",
       "55762       Steel Battalion: Heavy Armor       Xbox 360   \n",
       "811              AeroWings 2: Air Strike      Dreamcast   \n",
       "75836    Sonic the Hedgehog 4: Episode I  PlayStation 3   \n",
       "29361                      SingStar '80s  PlayStation 2   \n",
       "67707      Victor Vran: Overkill Edition       Xbox One   \n",
       "126199              Destruction AllStars  PlayStation 5   \n",
       "\n",
       "                                  review_critic  cluster  meta_score  \\\n",
       "64103                      Digitally Downloaded        1        80.0   \n",
       "76235                              TheSixthAxis        1        80.0   \n",
       "115566                    Press Start Australia        2        90.0   \n",
       "98719                 Official Xbox Magazine UK        1        70.0   \n",
       "55762                                XboxAddict        0        10.0   \n",
       "811                                   Hot Games        3        80.0   \n",
       "75836   Playstation Official Magazine Australia        1        80.0   \n",
       "29361                               DarkStation        0        80.0   \n",
       "67707                                XboxAddict        0        85.0   \n",
       "126199                           Digital Trends        4        40.0   \n",
       "\n",
       "        recommendation_score  \n",
       "64103              80.000000  \n",
       "76235              79.166667  \n",
       "115566             80.800000  \n",
       "98719              72.000000  \n",
       "55762              19.200000  \n",
       "811                84.000000  \n",
       "75836              75.000000  \n",
       "29361              81.250000  \n",
       "67707              85.000000  \n",
       "126199             40.000000  "
      ]
     },
     "execution_count": 13,
     "metadata": {},
     "output_type": "execute_result"
    }
   ],
   "source": [
    "recommendations = pd.DataFrame({})\n",
    "for idx, cluster in test.groupby(['cluster']):\n",
    "    c_recommendations = cluster.groupby(['platform', 'title']).mean().reset_index()\n",
    "    c_recommendations = c_recommendations.rename(columns={'meta_score':'recommendation_score'})\n",
    "    recommendations = pd.concat([recommendations, c_recommendations])\n",
    "\n",
    "test = pd.merge(test, recommendations)\n",
    "test.sample(n=10, random_state=42)"
   ]
  },
  {
   "cell_type": "markdown",
   "id": "current-cathedral",
   "metadata": {},
   "source": [
    "### 4.4 Mean absolute error"
   ]
  },
  {
   "cell_type": "code",
   "execution_count": 18,
   "id": "starting-coating",
   "metadata": {},
   "outputs": [
    {
     "name": "stdout",
     "output_type": "stream",
     "text": [
      "Mean Squared Error: 63.90485165454544\n",
      "Mean Absolute Error: 5.508622348074342\n"
     ]
    }
   ],
   "source": [
    "MSE = mean_squared_error(test['meta_score'], test['recommendation_score'])\n",
    "MAE = mean_absolute_error(test['meta_score'], test['recommendation_score'])\n",
    "\n",
    "print(f\"Mean Squared Error: {MSE}\")\n",
    "print(f\"Mean Absolute Error: {MAE}\")"
   ]
  },
  {
   "cell_type": "code",
   "execution_count": null,
   "id": "protective-action",
   "metadata": {},
   "outputs": [],
   "source": []
  },
  {
   "cell_type": "code",
   "execution_count": null,
   "id": "congressional-internet",
   "metadata": {},
   "outputs": [],
   "source": []
  },
  {
   "cell_type": "code",
   "execution_count": null,
   "id": "essential-athens",
   "metadata": {},
   "outputs": [],
   "source": []
  }
 ],
 "metadata": {
  "kernelspec": {
   "display_name": "Python 3",
   "language": "python",
   "name": "python3"
  },
  "language_info": {
   "codemirror_mode": {
    "name": "ipython",
    "version": 3
   },
   "file_extension": ".py",
   "mimetype": "text/x-python",
   "name": "python",
   "nbconvert_exporter": "python",
   "pygments_lexer": "ipython3",
   "version": "3.8.7"
  }
 },
 "nbformat": 4,
 "nbformat_minor": 5
}
