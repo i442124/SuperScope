{
 "cells": [
  {
   "cell_type": "markdown",
   "id": "mental-minister",
   "metadata": {},
   "source": [
    "# Data Retrieval Document"
   ]
  },
  {
   "cell_type": "markdown",
   "id": "actual-steel",
   "metadata": {},
   "source": [
    "## 💡 1. Introduction "
   ]
  },
  {
   "cell_type": "markdown",
   "id": "infectious-progress",
   "metadata": {},
   "source": [
    "In this document I will describe the process of gathering all the information that is needed to satisfy the conditions of the data requirements. We start of by recapping on how the data requirements are established and continue on with taking a look at the data sources and some of their limitations. In the end I showcase the implementations I made to collect the raw data so you can reproduce these same results when required."
   ]
  },
  {
   "cell_type": "markdown",
   "id": "recovered-assistant",
   "metadata": {},
   "source": [
    "## 📝 2. Data Requirements\n"
   ]
  },
  {
   "cell_type": "markdown",
   "id": "decent-accent",
   "metadata": {},
   "source": [
    "### 2.1 Video Game Details\n",
    "The details of a video game are very important components to determine if it's up for recommendation or not. The more we know about a video game the easier it becomes to determine whether it's in the same vein as what the user has previously played. The minimum feature set that I want to collect is the following:"
   ]
  },
  {
   "cell_type": "markdown",
   "id": "sufficient-pension",
   "metadata": {},
   "source": [
    "<table style=\"float:left;\">\n",
    "    <thead>\n",
    "        <tr>\n",
    "            <th style=\"text-align:left;\">Feature</th>\n",
    "            <th style=\"text-align:left;\">Description</th>\n",
    "        </tr>\n",
    "    </thead>\n",
    "    <tbody>\n",
    "        <tr>\n",
    "            <td style=\"text-align:left;\">Title</td>\n",
    "            <td style=\"text-align:left;\">The title of the video game. In combination with the platform of release, will result in a unique record in the dataset.</td>\n",
    "        </tr>\n",
    "        <tr>\n",
    "            <td style=\"text-align:left;\">Platform</td>\n",
    "            <td style=\"text-align:left;\">The platform that the was released for. Content between platforms of the same title could vary a lot, resulting in different recommendation for each platform.</td>\n",
    "        </tr>\n",
    "        <tr>\n",
    "            <td style=\"text-align:left;\">Publisher</td>\n",
    "            <td style=\"text-align:left;\">The publisher is the one who is responsible for the production of a video game, including the budget of the video game titles produced. This information could (combined with the developer) could help us predict how good a video game might before release!</td>\n",
    "        </tr>\n",
    "        <tr>\n",
    "            <td style=\"text-align:left;\">Developer</td>\n",
    "            <td style=\"text-align:left;\">The team that created the video game. Might or might not be the same as the publisher. Could be very useful to tell of the user is fan of a certain (group of) developer(s).</td>\n",
    "        </tr>\n",
    "        <tr>\n",
    "            <td style=\"text-align:left;\">Genres</td>\n",
    "            <td style=\"text-align:left;\">A set of categories that related by similar gameplay characteristics. For example, action games could be accompanied by either fighting game mechanics or platforming sections. This information will be very useful to know how similar game are in content to each other.</td>\n",
    "        </tr>\n",
    "        <tr>\n",
    "            <td style=\"text-align:left;\">Summary</td>\n",
    "            <td style=\"text-align:left;\">Contains details about the content of the game. Terminology could be used to determine if two video games tackle the same subject or setting and thus might be up for recommendation.</td>\n",
    "        </tr>\n",
    "    </tbody>\n",
    "</table>"
   ]
  },
  {
   "cell_type": "markdown",
   "id": "immune-journalist",
   "metadata": {},
   "source": [
    "### 2.2 Video Game Reviews\n",
    "Besides information about the video game itself, it’s also important to take into consideration what other people think about a product. In the domain understanding, we concluded that there are several ways people rate video games, with the most popular methods being upvotes/downvotes or using a score mapped to some kind of range. I will be using the scoring system as it's easier to deduce which game is better than the other without running the risks of penalizing unpopular games. The minimum feature set that I want to collect is the following:"
   ]
  },
  {
   "cell_type": "markdown",
   "id": "fatty-cooler",
   "metadata": {},
   "source": [
    "<table style=\"float:left;\">\n",
    "    <thead>\n",
    "        <tr>\n",
    "            <th style=\"text-align:left;\">Feature</th>\n",
    "            <th style=\"text-align:left;\">Description</th>\n",
    "        </tr>\n",
    "    </thead>\n",
    "    <tbody>\n",
    "        <tr>\n",
    "            <td style=\"text-align:left;\">Title</td>\n",
    "            <td style=\"text-align:left;\">The title of the video game. In combination with the platform of release, will result in a unique record in the dataset.</td>\n",
    "        </tr>\n",
    "        <tr>\n",
    "            <td style=\"text-align:left;\">Platform</td>\n",
    "            <td style=\"text-align:left;\">The platform that the was released for. Content between platforms of the same title could vary a lot, resulting in different recommendation for each platform.</td>\n",
    "        </tr>\n",
    "        <tr>\n",
    "            <td style=\"text-align:left;\">Critic</td>\n",
    "            <td style=\"text-align:left;\">The unique name of the user that reviewed the game. We can track what other games the user has played besides this one and see if there is a correlation with other games among users.</td>\n",
    "        </tr>\n",
    "        <tr>\n",
    "            <td style=\"text-align:left;\">Rating</td>\n",
    "            <td style=\"text-align:left;\">The score that the reviewer has given to the game. We can use this information to determine if he enjoyed the game or not. If multiple users score a game high with a similar collection as we have, it's probabilties of being a good recommendation increase.</td>\n",
    "        </tr>\n",
    "    </tbody>\n",
    "</table>"
   ]
  },
  {
   "cell_type": "markdown",
   "id": "dirty-universe",
   "metadata": {},
   "source": [
    "### 2.3 Video Game Box Art\n",
    "To me, it’s very important that recommendations only assist the user and DOESN'T TAKE OVER the behavior of the user. The way I want to approach this, is by letting the user scan the product their interested in. Video games have the wonderful attribute of having unique box-art for each installment. I want to use this to my advantage by using this image to let the user \"judge the game by its cover\". The feature set to make this possible looks like the following:"
   ]
  },
  {
   "cell_type": "markdown",
   "id": "careful-replacement",
   "metadata": {},
   "source": [
    "<table style=\"float:left;\">\n",
    "    <thead>\n",
    "        <tr>\n",
    "            <th style=\"text-align:left;\">Feature</th>\n",
    "            <th style=\"text-align:left;\">Description</th>\n",
    "        </tr>\n",
    "    </thead>\n",
    "    <tbody>\n",
    "        <tr>\n",
    "            <td style=\"text-align:left;\">Title</td>\n",
    "            <td style=\"text-align:left;\">The title of the video game.</td>\n",
    "        </tr>\n",
    "        <tr>\n",
    "            <td style=\"text-align:left;\">Platform</td>\n",
    "            <td style=\"text-align:left;\">The platform that the was released for.</td>\n",
    "        </tr>\n",
    "        <tr>\n",
    "            <td style=\"text-align:left;\">Image</td>\n",
    "            <td style=\"text-align:left;\">The target image that the algorithm will look for to associate the query image with this product. This information could be stored as either a sequence of bytes or a base64 encoded string. The format of the image is preferably in a lossless format (eg. BMP or PNG) and preprocessed into a compressed format (e.g. JPEG) for use with algorithms to boost performance, but this depends on the source.</td>\n",
    "        </tr>\n",
    "    </tbody>\n",
    "</table>"
   ]
  },
  {
   "cell_type": "markdown",
   "id": "moral-maine",
   "metadata": {},
   "source": [
    "## 📒 3. Data Collection Ledger"
   ]
  },
  {
   "cell_type": "markdown",
   "id": "educational-professional",
   "metadata": {},
   "source": [
    "### 3.1 Data Sources\n",
    "I will be using two separate data sources for obtaining the required data. The first source will be Metacritic. They provide detailed information about games and have a large collection of reviews (separated between critics and users) with a rating score between 0 and 100. The second source that I will be taking data from is MobyGames. They have high quality images of box art that we can use for feature extraction of images."
   ]
  },
  {
   "cell_type": "markdown",
   "id": "sustainable-myrtle",
   "metadata": {},
   "source": [
    "### 3.2 Rate of refreshing\n",
    "Due to the way the data is obtained, it's recommended to not refresh too frequent (if at all...) in its current state. Scraping of websites is commonly frowned upon by the maintainers of the website due to the heavy load on the domain."
   ]
  },
  {
   "cell_type": "markdown",
   "id": "ignored-support",
   "metadata": {},
   "source": [
    "### 3.3 Date scope of the data\n",
    "The date range is limited to the content provided by Metacritic, which happens to be between roughly 1995 and the date of scraping (which happens to be 2021-03-31) at the time of writing."
   ]
  },
  {
   "cell_type": "markdown",
   "id": "bronze-norwegian",
   "metadata": {},
   "source": [
    "### 3.4 Approximate size of the data\n",
    "The data from Metacritic exists of roughly 10.000 and 400.000 reviews. Check the [EDA's](https://github.com/i442124/SuperScope/tree/main/notebooks) for more information about the exact figures as well as more information regarding the contents of the data. The data gathered from MobyGames is limited in size, because the owner has explicitly stated that the performance of their website heavily suffers from web scrapers, so I decided to only download the cover-art of the top 6000 games to conceive the proof of concept that I want to create. The actual number of images that we can get is currently unknown."
   ]
  },
  {
   "cell_type": "markdown",
   "id": "advised-violin",
   "metadata": {},
   "source": [
    "## 👨‍💻 4. Extraction procedures"
   ]
  },
  {
   "cell_type": "markdown",
   "id": "manual-scoop",
   "metadata": {},
   "source": [
    "### 4.1 Obtaining data from Metacritic"
   ]
  },
  {
   "cell_type": "markdown",
   "id": "corrected-blank",
   "metadata": {},
   "source": [
    "#### 4.1.1 Metacritic Game List\n",
    "To obtain the data from Metacritic, we first need a list of games that we want to collect. We can use the [all games](https://www.metacritic.com/browse/games/score/metascore/all) section from Metacritic to gather all the information we need. Each entry contains a list that brings us to the specific game page. I've written a easy-to-use CLI that allows you to configure some parameters and start scraping from their website."
   ]
  },
  {
   "cell_type": "code",
   "execution_count": 1,
   "id": "aerial-member",
   "metadata": {},
   "outputs": [
    {
     "name": "stdout",
     "output_type": "stream",
     "text": [
      "usage: __list__.py [-h] [-s START_PAGE] [-c PAGE_COUNT] [-f [FORMAT]] [-o [OUTPUT]]\n",
      "\n",
      "Metacritic Scraper\n",
      "\n",
      "optional arguments:\n",
      "  -h, --help            show this help message and exit\n",
      "  -s START_PAGE, --start_page START_PAGE\n",
      "                        Page number to begin scraping.\n",
      "  -c PAGE_COUNT, --page_count PAGE_COUNT\n",
      "                        Total number of pages to scrape.\n",
      "  -f [FORMAT], --format [FORMAT]\n",
      "                        Format of the ouput file.\n",
      "  -o [OUTPUT], --output [OUTPUT]\n",
      "                        Name of the output file.\n"
     ]
    }
   ],
   "source": [
    "%run -i ..\\scripts\\crawler\\metacritic\\__list__ --help"
   ]
  },
  {
   "cell_type": "code",
   "execution_count": 2,
   "id": "satellite-springer",
   "metadata": {},
   "outputs": [],
   "source": [
    "## EXAMPLES OF HOW TO SCRAPE\n",
    "#%run -i ..\\scripts\\crawler\\metacritic\\__list__ --start_page=0 --page_count=1, --format=CSV --output='myFile.csv'\n",
    "#%run -i ..\\scripts\\crawler\\metacritic\\__list__ --start_page=0 --page_count=None --format=JSON --output='myFile.json'"
   ]
  },
  {
   "cell_type": "markdown",
   "id": "composed-ethnic",
   "metadata": {},
   "source": [
    "#### 4.1.2 Metacritic Game Details/Reviews\n",
    "After collecting the list of games that we are interested in, we can start the scraping of the actual content of these pages. We need to provide the location of the file we've scraped in the previous step that contains all the URL locations. I've made another CLI so we can easily scrape the content we need. In this CLI we can specify what kind of content we want to obtain (reviews or details)."
   ]
  },
  {
   "cell_type": "code",
   "execution_count": 3,
   "id": "worst-organizer",
   "metadata": {},
   "outputs": [
    {
     "name": "stdout",
     "output_type": "stream",
     "text": [
      "usage: __main__.py [-h] [-f [FORMAT]] [-o [OUTPUT]] file {details,reviews}\n",
      "\n",
      "Metacritic Scraper\n",
      "\n",
      "positional arguments:\n",
      "  file                  File with the list of pages to visit.\n",
      "  {details,reviews}     Type of content to scrape.\n",
      "\n",
      "optional arguments:\n",
      "  -h, --help            show this help message and exit\n",
      "  -f [FORMAT], --format [FORMAT]\n",
      "                        Format of the ouput file.\n",
      "  -o [OUTPUT], --output [OUTPUT]\n",
      "                        Name of the output file.\n"
     ]
    }
   ],
   "source": [
    "%run -i ..\\scripts\\crawler\\metacritic\\__main__ --help"
   ]
  },
  {
   "cell_type": "code",
   "execution_count": 4,
   "id": "reverse-drink",
   "metadata": {},
   "outputs": [],
   "source": [
    "## EXAMPLES OF HOW TO SCRAPE\n",
    "#%run -i ..\\scripts\\crawler\\metacritic\\__main__ \"myFile.json\" details --format=CSV --output=\"myFileDetails.json\"\n",
    "#%run -i ..\\scripts\\crawler\\metacritic\\__main__ \"myFile.json\" reviews --format=CSV --output=\"myFileReviews.json\"\n",
    "# "
   ]
  },
  {
   "cell_type": "markdown",
   "id": "cellular-rugby",
   "metadata": {},
   "source": [
    "### 4.2 Obtain data from MobyGames"
   ]
  },
  {
   "cell_type": "markdown",
   "id": "liberal-citation",
   "metadata": {},
   "source": [
    "#### 4.2.1 MobyGames Game List\n",
    "Because the collection of games of MobyGames is different from the ones from Metacritic, I needed to find a way of combining these two datasets. With the use of some clever URL modifications, we can use the list generated from Metacritic and parse them into the URL structure MobyGames uses. Luckily these are very similar with slight naming convention differences. This means we can use the same list file from Metacritic and use is on MobyGames."
   ]
  },
  {
   "cell_type": "markdown",
   "id": "dental-safety",
   "metadata": {},
   "source": [
    "#### 4.2.2 MobyGames Game Images\n",
    "To extract the images from MobyGames, I've once again provided another CLI. Note that the images provided by MobyGames are encoded into base64. To put it simply, base64 avoids the use of 'hidden' characters often found in binary files by mapping them to the common ASCII letters, which are always readable on screen. This makes them a lot more reliable to transfer between users."
   ]
  },
  {
   "cell_type": "code",
   "execution_count": 5,
   "id": "configured-designation",
   "metadata": {},
   "outputs": [
    {
     "name": "stdout",
     "output_type": "stream",
     "text": [
      "usage: __main__.py [-h] [-f [FORMAT]] [-o [OUTPUT]] file\n",
      "\n",
      "MobyGames Scraper\n",
      "\n",
      "positional arguments:\n",
      "  file                  File with the list of pages to visit.\n",
      "\n",
      "optional arguments:\n",
      "  -h, --help            show this help message and exit\n",
      "  -f [FORMAT], --format [FORMAT]\n",
      "                        Format of the output file.\n",
      "  -o [OUTPUT], --output [OUTPUT]\n",
      "                        Name of the output file.\n"
     ]
    }
   ],
   "source": [
    "%run -i ..\\scripts\\crawler\\moby_games\\__main__ --help"
   ]
  },
  {
   "cell_type": "code",
   "execution_count": 6,
   "id": "talented-pearl",
   "metadata": {},
   "outputs": [],
   "source": [
    "## EXAMPLES OF HOW TO SCRAPE\n",
    "#%run -i ..\\scripts\\crawler\\moby_games\\__main__ \"myFile.json\" --format=CSV --output=\"myFileReviews.csv\"\n",
    "#%run -i ..\\scripts\\crawler\\moby_games\\__main__ \"myFile.json\" --format=JSON --output=\"myFileImages.json\""
   ]
  },
  {
   "cell_type": "markdown",
   "id": "present-catalog",
   "metadata": {},
   "source": [
    "### 4.3 Remarks\n",
    "Please, be aware that we've never gotten permission from any of these websites to use this data as we please. Don't harass the owners of the websites by unnecessary workloads and use the files I've provided in this repository whenever possible. USE THESE TOOLS RESPONSIBLY!!!"
   ]
  }
 ],
 "metadata": {
  "kernelspec": {
   "display_name": "Python 3",
   "language": "python",
   "name": "python3"
  },
  "language_info": {
   "codemirror_mode": {
    "name": "ipython",
    "version": 3
   },
   "file_extension": ".py",
   "mimetype": "text/x-python",
   "name": "python",
   "nbconvert_exporter": "python",
   "pygments_lexer": "ipython3",
   "version": "3.8.7"
  }
 },
 "nbformat": 4,
 "nbformat_minor": 5
}
