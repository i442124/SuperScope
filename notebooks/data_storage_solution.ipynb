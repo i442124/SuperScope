{
 "cells": [
  {
   "cell_type": "markdown",
   "id": "changed-brooklyn",
   "metadata": {},
   "source": [
    "## 💡 1. Introduction "
   ]
  },
  {
   "cell_type": "markdown",
   "id": "cloudy-hartford",
   "metadata": {},
   "source": [
    "[TODO]"
   ]
  },
  {
   "cell_type": "markdown",
   "id": "interesting-administrator",
   "metadata": {},
   "source": [
    "## ⚙️ 2. Settings"
   ]
  },
  {
   "cell_type": "code",
   "execution_count": 1,
   "id": "guilty-brighton",
   "metadata": {},
   "outputs": [],
   "source": [
    "GAME_DETAILS_PATH = '../data/game_details.json'\n",
    "GAME_REVIEWS_PATH = '../data/game_reviews.json'\n",
    "\n",
    "GAME_DETAILS_SELECTION = ['title', 'platform', 'publisher', 'genres']\n",
    "GAME_REVIEWS_SELECTION = ['title', 'platform', 'meta_score', 'review_critic']"
   ]
  },
  {
   "cell_type": "markdown",
   "id": "upset-tongue",
   "metadata": {},
   "source": [
    "## 📚 3. Preperations"
   ]
  },
  {
   "cell_type": "markdown",
   "id": "coordinate-funds",
   "metadata": {},
   "source": [
    "### 3.1 Importing libraries"
   ]
  },
  {
   "cell_type": "code",
   "execution_count": 2,
   "id": "thorough-teacher",
   "metadata": {},
   "outputs": [],
   "source": [
    "import os\n",
    "import io\n",
    "import math\n",
    "import base64\n",
    "\n",
    "import numpy as np\n",
    "import pandas as pd\n",
    "import seaborn as sns\n",
    "\n",
    "from PIL import Image\n",
    "import matplotlib.pyplot as plt"
   ]
  },
  {
   "cell_type": "markdown",
   "id": "forbidden-administrator",
   "metadata": {},
   "source": [
    "### 3.2 Loading the data"
   ]
  },
  {
   "cell_type": "code",
   "execution_count": 3,
   "id": "burning-parade",
   "metadata": {},
   "outputs": [
    {
     "data": {
      "text/html": [
       "<div>\n",
       "<style scoped>\n",
       "    .dataframe tbody tr th:only-of-type {\n",
       "        vertical-align: middle;\n",
       "    }\n",
       "\n",
       "    .dataframe tbody tr th {\n",
       "        vertical-align: top;\n",
       "    }\n",
       "\n",
       "    .dataframe thead th {\n",
       "        text-align: right;\n",
       "    }\n",
       "</style>\n",
       "<table border=\"1\" class=\"dataframe\">\n",
       "  <thead>\n",
       "    <tr style=\"text-align: right;\">\n",
       "      <th></th>\n",
       "      <th>title</th>\n",
       "      <th>platform</th>\n",
       "      <th>publisher</th>\n",
       "      <th>genres</th>\n",
       "    </tr>\n",
       "  </thead>\n",
       "  <tbody>\n",
       "    <tr>\n",
       "      <th>3571</th>\n",
       "      <td>Red Orchestra: Ostfront 41-45</td>\n",
       "      <td>PC</td>\n",
       "      <td>Bold Games</td>\n",
       "      <td>[Action, Shooter, Shooter, First-Person, Histo...</td>\n",
       "    </tr>\n",
       "    <tr>\n",
       "      <th>16592</th>\n",
       "      <td>Dreamcast Collection</td>\n",
       "      <td>Xbox 360</td>\n",
       "      <td>Sega</td>\n",
       "      <td>[Miscellaneous, Compilation, Compilation]</td>\n",
       "    </tr>\n",
       "    <tr>\n",
       "      <th>16533</th>\n",
       "      <td>Planar Conquest</td>\n",
       "      <td>PC</td>\n",
       "      <td>Wastelands Interactive</td>\n",
       "      <td>[Strategy, Turn-Based, 4X]</td>\n",
       "    </tr>\n",
       "    <tr>\n",
       "      <th>5245</th>\n",
       "      <td>Conker: Live &amp; Reloaded</td>\n",
       "      <td>Xbox</td>\n",
       "      <td>Microsoft Game Studios</td>\n",
       "      <td>[Action, Shooter, Third-Person, Fantasy]</td>\n",
       "    </tr>\n",
       "    <tr>\n",
       "      <th>16339</th>\n",
       "      <td>Port Royale 3: Pirates and Merchants</td>\n",
       "      <td>PC</td>\n",
       "      <td>Kalypso</td>\n",
       "      <td>[Strategy, Real-Time, General, General]</td>\n",
       "    </tr>\n",
       "  </tbody>\n",
       "</table>\n",
       "</div>"
      ],
      "text/plain": [
       "                                      title  platform               publisher  \\\n",
       "3571          Red Orchestra: Ostfront 41-45        PC              Bold Games   \n",
       "16592                  Dreamcast Collection  Xbox 360                    Sega   \n",
       "16533                       Planar Conquest        PC  Wastelands Interactive   \n",
       "5245                Conker: Live & Reloaded      Xbox  Microsoft Game Studios   \n",
       "16339  Port Royale 3: Pirates and Merchants        PC                 Kalypso   \n",
       "\n",
       "                                                  genres  \n",
       "3571   [Action, Shooter, Shooter, First-Person, Histo...  \n",
       "16592          [Miscellaneous, Compilation, Compilation]  \n",
       "16533                         [Strategy, Turn-Based, 4X]  \n",
       "5245            [Action, Shooter, Third-Person, Fantasy]  \n",
       "16339            [Strategy, Real-Time, General, General]  "
      ]
     },
     "execution_count": 3,
     "metadata": {},
     "output_type": "execute_result"
    }
   ],
   "source": [
    "games = pd.read_json(GAME_DETAILS_PATH)\n",
    "games = games[GAME_DETAILS_SELECTION]\n",
    "games.sample(n=5, random_state=42)"
   ]
  },
  {
   "cell_type": "code",
   "execution_count": 4,
   "id": "changing-retreat",
   "metadata": {},
   "outputs": [
    {
     "data": {
      "text/html": [
       "<div>\n",
       "<style scoped>\n",
       "    .dataframe tbody tr th:only-of-type {\n",
       "        vertical-align: middle;\n",
       "    }\n",
       "\n",
       "    .dataframe tbody tr th {\n",
       "        vertical-align: top;\n",
       "    }\n",
       "\n",
       "    .dataframe thead th {\n",
       "        text-align: right;\n",
       "    }\n",
       "</style>\n",
       "<table border=\"1\" class=\"dataframe\">\n",
       "  <thead>\n",
       "    <tr style=\"text-align: right;\">\n",
       "      <th></th>\n",
       "      <th>title</th>\n",
       "      <th>platform</th>\n",
       "      <th>meta_score</th>\n",
       "      <th>review_critic</th>\n",
       "    </tr>\n",
       "  </thead>\n",
       "  <tbody>\n",
       "    <tr>\n",
       "      <th>88541</th>\n",
       "      <td>Terraria</td>\n",
       "      <td>PC</td>\n",
       "      <td>85.0</td>\n",
       "      <td>GameTrailers</td>\n",
       "    </tr>\n",
       "    <tr>\n",
       "      <th>108679</th>\n",
       "      <td>Virtual Pool 3</td>\n",
       "      <td>PC</td>\n",
       "      <td>85.0</td>\n",
       "      <td>GamerWeb PC</td>\n",
       "    </tr>\n",
       "    <tr>\n",
       "      <th>393766</th>\n",
       "      <td>Tecmo Classic Arcade</td>\n",
       "      <td>Xbox</td>\n",
       "      <td>59.0</td>\n",
       "      <td>Xbox Evolved</td>\n",
       "    </tr>\n",
       "    <tr>\n",
       "      <th>173811</th>\n",
       "      <td>Far Cry 5</td>\n",
       "      <td>PC</td>\n",
       "      <td>80.0</td>\n",
       "      <td>Game World Navigator Magazine</td>\n",
       "    </tr>\n",
       "    <tr>\n",
       "      <th>372616</th>\n",
       "      <td>Legends of Wrestling II</td>\n",
       "      <td>PlayStation 2</td>\n",
       "      <td>50.0</td>\n",
       "      <td>Gaming Age</td>\n",
       "    </tr>\n",
       "  </tbody>\n",
       "</table>\n",
       "</div>"
      ],
      "text/plain": [
       "                          title       platform  meta_score  \\\n",
       "88541                  Terraria             PC        85.0   \n",
       "108679           Virtual Pool 3             PC        85.0   \n",
       "393766     Tecmo Classic Arcade           Xbox        59.0   \n",
       "173811                Far Cry 5             PC        80.0   \n",
       "372616  Legends of Wrestling II  PlayStation 2        50.0   \n",
       "\n",
       "                        review_critic  \n",
       "88541                    GameTrailers  \n",
       "108679                    GamerWeb PC  \n",
       "393766                   Xbox Evolved  \n",
       "173811  Game World Navigator Magazine  \n",
       "372616                     Gaming Age  "
      ]
     },
     "execution_count": 4,
     "metadata": {},
     "output_type": "execute_result"
    }
   ],
   "source": [
    "ratings = pd.read_json(GAME_REVIEWS_PATH)\n",
    "ratings = ratings[GAME_REVIEWS_SELECTION]\n",
    "ratings.sample(n=5, random_state=42)"
   ]
  },
  {
   "cell_type": "markdown",
   "id": "absent-senegal",
   "metadata": {},
   "source": [
    "### 3.3 Loading the images"
   ]
  },
  {
   "cell_type": "code",
   "execution_count": null,
   "id": "killing-supplement",
   "metadata": {},
   "outputs": [],
   "source": []
  },
  {
   "cell_type": "code",
   "execution_count": null,
   "id": "national-financing",
   "metadata": {},
   "outputs": [],
   "source": []
  },
  {
   "cell_type": "markdown",
   "id": "revolutionary-survivor",
   "metadata": {},
   "source": [
    "## 🧹 4. Cleaning"
   ]
  },
  {
   "cell_type": "markdown",
   "id": "regulated-garlic",
   "metadata": {},
   "source": [
    "### 4.1 Solving null values"
   ]
  },
  {
   "cell_type": "code",
   "execution_count": 5,
   "id": "constant-passport",
   "metadata": {},
   "outputs": [
    {
     "data": {
      "text/plain": [
       "title         0\n",
       "platform      0\n",
       "publisher    12\n",
       "genres        0\n",
       "dtype: int64"
      ]
     },
     "execution_count": 5,
     "metadata": {},
     "output_type": "execute_result"
    }
   ],
   "source": [
    "games.isnull().sum()"
   ]
  },
  {
   "cell_type": "code",
   "execution_count": 6,
   "id": "decent-directory",
   "metadata": {},
   "outputs": [
    {
     "data": {
      "text/plain": [
       "title            0\n",
       "platform         0\n",
       "meta_score       0\n",
       "review_critic    1\n",
       "dtype: int64"
      ]
     },
     "execution_count": 6,
     "metadata": {},
     "output_type": "execute_result"
    }
   ],
   "source": [
    "ratings = ratings[ratings['meta_score'].notna()]\n",
    "ratings.isnull().sum()"
   ]
  },
  {
   "cell_type": "markdown",
   "id": "measured-field",
   "metadata": {},
   "source": [
    "### 4.2 Solving duplicate values"
   ]
  },
  {
   "cell_type": "code",
   "execution_count": 7,
   "id": "angry-apple",
   "metadata": {},
   "outputs": [],
   "source": [
    "games['genres'] = games['genres'].apply(lambda x: list(set(x)))\n",
    "games = games.drop_duplicates(subset=['title', 'platform'])"
   ]
  },
  {
   "cell_type": "code",
   "execution_count": 8,
   "id": "linear-fifty",
   "metadata": {
    "scrolled": false
   },
   "outputs": [
    {
     "data": {
      "text/html": [
       "<div>\n",
       "<style scoped>\n",
       "    .dataframe tbody tr th:only-of-type {\n",
       "        vertical-align: middle;\n",
       "    }\n",
       "\n",
       "    .dataframe tbody tr th {\n",
       "        vertical-align: top;\n",
       "    }\n",
       "\n",
       "    .dataframe thead th {\n",
       "        text-align: right;\n",
       "    }\n",
       "</style>\n",
       "<table border=\"1\" class=\"dataframe\">\n",
       "  <thead>\n",
       "    <tr style=\"text-align: right;\">\n",
       "      <th></th>\n",
       "      <th>title</th>\n",
       "      <th>platform</th>\n",
       "      <th>meta_score</th>\n",
       "      <th>review_critic</th>\n",
       "    </tr>\n",
       "  </thead>\n",
       "  <tbody>\n",
       "    <tr>\n",
       "      <th>0</th>\n",
       "      <td>The Legend of Zelda: Ocarina of Time</td>\n",
       "      <td>Nintendo 64</td>\n",
       "      <td>100.0</td>\n",
       "      <td>Hot Games</td>\n",
       "    </tr>\n",
       "    <tr>\n",
       "      <th>1</th>\n",
       "      <td>The Legend of Zelda: Ocarina of Time</td>\n",
       "      <td>Nintendo 64</td>\n",
       "      <td>100.0</td>\n",
       "      <td>GameShark</td>\n",
       "    </tr>\n",
       "    <tr>\n",
       "      <th>2</th>\n",
       "      <td>The Legend of Zelda: Ocarina of Time</td>\n",
       "      <td>Nintendo 64</td>\n",
       "      <td>100.0</td>\n",
       "      <td>Cincinnati Enquirer</td>\n",
       "    </tr>\n",
       "    <tr>\n",
       "      <th>3</th>\n",
       "      <td>The Legend of Zelda: Ocarina of Time</td>\n",
       "      <td>Nintendo 64</td>\n",
       "      <td>100.0</td>\n",
       "      <td>Nintendophiles</td>\n",
       "    </tr>\n",
       "    <tr>\n",
       "      <th>4</th>\n",
       "      <td>The Legend of Zelda: Ocarina of Time</td>\n",
       "      <td>Nintendo 64</td>\n",
       "      <td>100.0</td>\n",
       "      <td>Electronic Gaming Monthly</td>\n",
       "    </tr>\n",
       "    <tr>\n",
       "      <th>...</th>\n",
       "      <td>...</td>\n",
       "      <td>...</td>\n",
       "      <td>...</td>\n",
       "      <td>...</td>\n",
       "    </tr>\n",
       "    <tr>\n",
       "      <th>426390</th>\n",
       "      <td>Family Party: 30 Great Games Obstacle Arcade</td>\n",
       "      <td>Wii U</td>\n",
       "      <td>10.0</td>\n",
       "      <td>Nintendo Life</td>\n",
       "    </tr>\n",
       "    <tr>\n",
       "      <th>426391</th>\n",
       "      <td>Family Party: 30 Great Games Obstacle Arcade</td>\n",
       "      <td>Wii U</td>\n",
       "      <td>10.0</td>\n",
       "      <td>NintendoWorldReport</td>\n",
       "    </tr>\n",
       "    <tr>\n",
       "      <th>426392</th>\n",
       "      <td>Family Party: 30 Great Games Obstacle Arcade</td>\n",
       "      <td>Wii U</td>\n",
       "      <td>10.0</td>\n",
       "      <td>Gamereactor Denmark</td>\n",
       "    </tr>\n",
       "    <tr>\n",
       "      <th>426393</th>\n",
       "      <td>Family Party: 30 Great Games Obstacle Arcade</td>\n",
       "      <td>Wii U</td>\n",
       "      <td>10.0</td>\n",
       "      <td>Eurogamer Sweden</td>\n",
       "    </tr>\n",
       "    <tr>\n",
       "      <th>426394</th>\n",
       "      <td>Family Party: 30 Great Games Obstacle Arcade</td>\n",
       "      <td>Wii U</td>\n",
       "      <td>0.0</td>\n",
       "      <td>Game Revolution</td>\n",
       "    </tr>\n",
       "  </tbody>\n",
       "</table>\n",
       "<p>422475 rows × 4 columns</p>\n",
       "</div>"
      ],
      "text/plain": [
       "                                               title     platform  meta_score  \\\n",
       "0               The Legend of Zelda: Ocarina of Time  Nintendo 64       100.0   \n",
       "1               The Legend of Zelda: Ocarina of Time  Nintendo 64       100.0   \n",
       "2               The Legend of Zelda: Ocarina of Time  Nintendo 64       100.0   \n",
       "3               The Legend of Zelda: Ocarina of Time  Nintendo 64       100.0   \n",
       "4               The Legend of Zelda: Ocarina of Time  Nintendo 64       100.0   \n",
       "...                                              ...          ...         ...   \n",
       "426390  Family Party: 30 Great Games Obstacle Arcade        Wii U        10.0   \n",
       "426391  Family Party: 30 Great Games Obstacle Arcade        Wii U        10.0   \n",
       "426392  Family Party: 30 Great Games Obstacle Arcade        Wii U        10.0   \n",
       "426393  Family Party: 30 Great Games Obstacle Arcade        Wii U        10.0   \n",
       "426394  Family Party: 30 Great Games Obstacle Arcade        Wii U         0.0   \n",
       "\n",
       "                    review_critic  \n",
       "0                       Hot Games  \n",
       "1                       GameShark  \n",
       "2             Cincinnati Enquirer  \n",
       "3                  Nintendophiles  \n",
       "4       Electronic Gaming Monthly  \n",
       "...                           ...  \n",
       "426390              Nintendo Life  \n",
       "426391        NintendoWorldReport  \n",
       "426392        Gamereactor Denmark  \n",
       "426393           Eurogamer Sweden  \n",
       "426394            Game Revolution  \n",
       "\n",
       "[422475 rows x 4 columns]"
      ]
     },
     "execution_count": 8,
     "metadata": {},
     "output_type": "execute_result"
    }
   ],
   "source": [
    "ratings = ratings.drop_duplicates()\n",
    "ratings"
   ]
  },
  {
   "cell_type": "markdown",
   "id": "narrow-dutch",
   "metadata": {},
   "source": [
    "## ♻️ 5. Preprocessing"
   ]
  },
  {
   "cell_type": "markdown",
   "id": "loaded-kuwait",
   "metadata": {},
   "source": [
    "### 5.1 Rating distribution"
   ]
  },
  {
   "cell_type": "code",
   "execution_count": null,
   "id": "returning-apartment",
   "metadata": {},
   "outputs": [],
   "source": []
  },
  {
   "cell_type": "code",
   "execution_count": null,
   "id": "loving-bunny",
   "metadata": {},
   "outputs": [],
   "source": []
  },
  {
   "cell_type": "markdown",
   "id": "racial-teach",
   "metadata": {},
   "source": [
    "## 💾 6. Storage"
   ]
  },
  {
   "cell_type": "code",
   "execution_count": 9,
   "id": "employed-battery",
   "metadata": {},
   "outputs": [
    {
     "name": "stdout",
     "output_type": "stream",
     "text": [
      "Stored 'games' (DataFrame)\n",
      "Stored 'ratings' (DataFrame)\n"
     ]
    }
   ],
   "source": [
    "%store games\n",
    "%store ratings"
   ]
  }
 ],
 "metadata": {
  "kernelspec": {
   "display_name": "Python 3",
   "language": "python",
   "name": "python3"
  },
  "language_info": {
   "codemirror_mode": {
    "name": "ipython",
    "version": 3
   },
   "file_extension": ".py",
   "mimetype": "text/x-python",
   "name": "python",
   "nbconvert_exporter": "python",
   "pygments_lexer": "ipython3",
   "version": "3.8.7"
  }
 },
 "nbformat": 4,
 "nbformat_minor": 5
}
